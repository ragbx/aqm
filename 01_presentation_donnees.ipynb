{
 "cells": [
  {
   "cell_type": "markdown",
   "metadata": {},
   "source": [
    "# Caractériser les adhérents de la Médiathèque de Roubaix selon leur lieu d'habitation - partie 1 : Présentation et exploration des données"
   ]
  },
  {
   "cell_type": "markdown",
   "metadata": {},
   "source": [
    "## Le jeu de données"
   ]
  },
  {
   "cell_type": "markdown",
   "metadata": {},
   "source": [
    "On part de [données mises en ligne](https://opendata.roubaix.fr/explore/dataset/caracteristiques_adherents_2018) sur la plateforme open data de la Ville de Roubaix.\n",
    "\n",
    "Ces données ont vocation à permettre de caractériser les adhérents de la Médiathèque de Roubaix, pour une année donnée (2018 ici)."
   ]
  },
  {
   "cell_type": "code",
   "execution_count": 1,
   "metadata": {},
   "outputs": [
    {
     "data": {
      "text/html": [
       "<div>\n",
       "<style scoped>\n",
       "    .dataframe tbody tr th:only-of-type {\n",
       "        vertical-align: middle;\n",
       "    }\n",
       "\n",
       "    .dataframe tbody tr th {\n",
       "        vertical-align: top;\n",
       "    }\n",
       "\n",
       "    .dataframe thead th {\n",
       "        text-align: right;\n",
       "    }\n",
       "</style>\n",
       "<table border=\"1\" class=\"dataframe\">\n",
       "  <thead>\n",
       "    <tr style=\"text-align: right;\">\n",
       "      <th></th>\n",
       "      <th>date_extraction</th>\n",
       "      <th>activite</th>\n",
       "      <th>activite_emprunteur</th>\n",
       "      <th>activite_emprunteur_bus</th>\n",
       "      <th>activite_emprunteur_med</th>\n",
       "      <th>activite_salle_etude</th>\n",
       "      <th>activite_utilisateur_postes_informatiques</th>\n",
       "      <th>activite_utilisateur_wifi</th>\n",
       "      <th>Tranches d’âge (1)</th>\n",
       "      <th>Tranches d’âge (2)</th>\n",
       "      <th>...</th>\n",
       "      <th>type_inscription</th>\n",
       "      <th>nb_venues</th>\n",
       "      <th>nb_venues_postes_informatiques</th>\n",
       "      <th>nb_venues_prets</th>\n",
       "      <th>nb_venues_prets_bus</th>\n",
       "      <th>nb_venues_prets_mediatheque</th>\n",
       "      <th>nb_venues_salle_etude</th>\n",
       "      <th>nb_venues_wifi</th>\n",
       "      <th>sexe</th>\n",
       "      <th>geo_point_2d</th>\n",
       "    </tr>\n",
       "  </thead>\n",
       "  <tbody>\n",
       "    <tr>\n",
       "      <th>0</th>\n",
       "      <td>2018</td>\n",
       "      <td>prêt</td>\n",
       "      <td>Emprunteur</td>\n",
       "      <td>Non emprunteur Zèbre</td>\n",
       "      <td>Emprunteur Médiathèque</td>\n",
       "      <td>Non utilisateur Salle d'étude</td>\n",
       "      <td>Non utilisateur postes informatiques</td>\n",
       "      <td>Non utilisateur Wifi</td>\n",
       "      <td>25 - 64 ans</td>\n",
       "      <td>30 - 39 ans</td>\n",
       "      <td>...</td>\n",
       "      <td>gratuite</td>\n",
       "      <td>1.0</td>\n",
       "      <td>0.0</td>\n",
       "      <td>1.0</td>\n",
       "      <td>0.0</td>\n",
       "      <td>1.0</td>\n",
       "      <td>0.0</td>\n",
       "      <td>0.0</td>\n",
       "      <td>Homme</td>\n",
       "      <td>50.6873356245,3.16102905857</td>\n",
       "    </tr>\n",
       "    <tr>\n",
       "      <th>1</th>\n",
       "      <td>2018</td>\n",
       "      <td>prêt</td>\n",
       "      <td>Emprunteur</td>\n",
       "      <td>Non emprunteur Zèbre</td>\n",
       "      <td>Emprunteur Médiathèque</td>\n",
       "      <td>Non utilisateur Salle d'étude</td>\n",
       "      <td>Non utilisateur postes informatiques</td>\n",
       "      <td>Non utilisateur Wifi</td>\n",
       "      <td>0 - 14 ans</td>\n",
       "      <td>06 - 10 ans</td>\n",
       "      <td>...</td>\n",
       "      <td>gratuite</td>\n",
       "      <td>1.0</td>\n",
       "      <td>0.0</td>\n",
       "      <td>1.0</td>\n",
       "      <td>0.0</td>\n",
       "      <td>1.0</td>\n",
       "      <td>0.0</td>\n",
       "      <td>0.0</td>\n",
       "      <td>Femme</td>\n",
       "      <td>50.6873356245,3.16102905857</td>\n",
       "    </tr>\n",
       "    <tr>\n",
       "      <th>2</th>\n",
       "      <td>2018</td>\n",
       "      <td>aucune trace</td>\n",
       "      <td>Non emprunteur</td>\n",
       "      <td>Non emprunteur Zèbre</td>\n",
       "      <td>Non emprunteur Médiathèque</td>\n",
       "      <td>Non utilisateur Salle d'étude</td>\n",
       "      <td>Non utilisateur postes informatiques</td>\n",
       "      <td>Non utilisateur Wifi</td>\n",
       "      <td>0 - 14 ans</td>\n",
       "      <td>06 - 10 ans</td>\n",
       "      <td>...</td>\n",
       "      <td>gratuite</td>\n",
       "      <td>0.0</td>\n",
       "      <td>0.0</td>\n",
       "      <td>0.0</td>\n",
       "      <td>0.0</td>\n",
       "      <td>0.0</td>\n",
       "      <td>0.0</td>\n",
       "      <td>0.0</td>\n",
       "      <td>Femme</td>\n",
       "      <td>50.6873356245,3.16102905857</td>\n",
       "    </tr>\n",
       "    <tr>\n",
       "      <th>3</th>\n",
       "      <td>2018</td>\n",
       "      <td>prêt</td>\n",
       "      <td>Emprunteur</td>\n",
       "      <td>Non emprunteur Zèbre</td>\n",
       "      <td>Emprunteur Médiathèque</td>\n",
       "      <td>Non utilisateur Salle d'étude</td>\n",
       "      <td>Non utilisateur postes informatiques</td>\n",
       "      <td>Non utilisateur Wifi</td>\n",
       "      <td>65 ans et plus</td>\n",
       "      <td>65 - 79 ans</td>\n",
       "      <td>...</td>\n",
       "      <td>gratuite</td>\n",
       "      <td>13.0</td>\n",
       "      <td>0.0</td>\n",
       "      <td>13.0</td>\n",
       "      <td>0.0</td>\n",
       "      <td>13.0</td>\n",
       "      <td>0.0</td>\n",
       "      <td>0.0</td>\n",
       "      <td>Homme</td>\n",
       "      <td>50.6873356245,3.16102905857</td>\n",
       "    </tr>\n",
       "    <tr>\n",
       "      <th>4</th>\n",
       "      <td>2018</td>\n",
       "      <td>aucune trace</td>\n",
       "      <td>Non emprunteur</td>\n",
       "      <td>Non emprunteur Zèbre</td>\n",
       "      <td>Non emprunteur Médiathèque</td>\n",
       "      <td>Non utilisateur Salle d'étude</td>\n",
       "      <td>Non utilisateur postes informatiques</td>\n",
       "      <td>Non utilisateur Wifi</td>\n",
       "      <td>15 - 24 ans</td>\n",
       "      <td>15 - 17 ans</td>\n",
       "      <td>...</td>\n",
       "      <td>gratuite</td>\n",
       "      <td>0.0</td>\n",
       "      <td>0.0</td>\n",
       "      <td>0.0</td>\n",
       "      <td>0.0</td>\n",
       "      <td>0.0</td>\n",
       "      <td>0.0</td>\n",
       "      <td>0.0</td>\n",
       "      <td>Femme</td>\n",
       "      <td>50.6873356245,3.16102905857</td>\n",
       "    </tr>\n",
       "  </tbody>\n",
       "</table>\n",
       "<p>5 rows × 28 columns</p>\n",
       "</div>"
      ],
      "text/plain": [
       "   date_extraction      activite activite_emprunteur activite_emprunteur_bus  \\\n",
       "0             2018          prêt          Emprunteur    Non emprunteur Zèbre   \n",
       "1             2018          prêt          Emprunteur    Non emprunteur Zèbre   \n",
       "2             2018  aucune trace      Non emprunteur    Non emprunteur Zèbre   \n",
       "3             2018          prêt          Emprunteur    Non emprunteur Zèbre   \n",
       "4             2018  aucune trace      Non emprunteur    Non emprunteur Zèbre   \n",
       "\n",
       "      activite_emprunteur_med           activite_salle_etude  \\\n",
       "0      Emprunteur Médiathèque  Non utilisateur Salle d'étude   \n",
       "1      Emprunteur Médiathèque  Non utilisateur Salle d'étude   \n",
       "2  Non emprunteur Médiathèque  Non utilisateur Salle d'étude   \n",
       "3      Emprunteur Médiathèque  Non utilisateur Salle d'étude   \n",
       "4  Non emprunteur Médiathèque  Non utilisateur Salle d'étude   \n",
       "\n",
       "  activite_utilisateur_postes_informatiques activite_utilisateur_wifi  \\\n",
       "0      Non utilisateur postes informatiques      Non utilisateur Wifi   \n",
       "1      Non utilisateur postes informatiques      Non utilisateur Wifi   \n",
       "2      Non utilisateur postes informatiques      Non utilisateur Wifi   \n",
       "3      Non utilisateur postes informatiques      Non utilisateur Wifi   \n",
       "4      Non utilisateur postes informatiques      Non utilisateur Wifi   \n",
       "\n",
       "  Tranches d’âge (1) Tranches d’âge (2)  ... type_inscription  nb_venues  \\\n",
       "0        25 - 64 ans        30 - 39 ans  ...         gratuite        1.0   \n",
       "1         0 - 14 ans        06 - 10 ans  ...         gratuite        1.0   \n",
       "2         0 - 14 ans        06 - 10 ans  ...         gratuite        0.0   \n",
       "3     65 ans et plus        65 - 79 ans  ...         gratuite       13.0   \n",
       "4        15 - 24 ans        15 - 17 ans  ...         gratuite        0.0   \n",
       "\n",
       "  nb_venues_postes_informatiques nb_venues_prets nb_venues_prets_bus  \\\n",
       "0                            0.0             1.0                 0.0   \n",
       "1                            0.0             1.0                 0.0   \n",
       "2                            0.0             0.0                 0.0   \n",
       "3                            0.0            13.0                 0.0   \n",
       "4                            0.0             0.0                 0.0   \n",
       "\n",
       "  nb_venues_prets_mediatheque nb_venues_salle_etude  nb_venues_wifi   sexe  \\\n",
       "0                         1.0                   0.0             0.0  Homme   \n",
       "1                         1.0                   0.0             0.0  Femme   \n",
       "2                         0.0                   0.0             0.0  Femme   \n",
       "3                        13.0                   0.0             0.0  Homme   \n",
       "4                         0.0                   0.0             0.0  Femme   \n",
       "\n",
       "                  geo_point_2d  \n",
       "0  50.6873356245,3.16102905857  \n",
       "1  50.6873356245,3.16102905857  \n",
       "2  50.6873356245,3.16102905857  \n",
       "3  50.6873356245,3.16102905857  \n",
       "4  50.6873356245,3.16102905857  \n",
       "\n",
       "[5 rows x 28 columns]"
      ]
     },
     "execution_count": 1,
     "metadata": {},
     "output_type": "execute_result"
    }
   ],
   "source": [
    "import pandas as pd\n",
    "\n",
    "adh = pd.read_csv(\"data/caracteristiques_adherents_2018.csv\", sep=\";\")\n",
    "adh.head(5)"
   ]
  },
  {
   "cell_type": "markdown",
   "metadata": {},
   "source": [
    "## Individus et variables\n",
    "\n",
    "Chaque ligne correspond à un individu (la taille de l'échantillon est de 13288 individus), pour lequel on dispose à la fois de variables qui permettent de connaître :\n",
    "- ses caractéristiques propres :\n",
    "    - tranche d'âge,\n",
    "    - sexe,\n",
    "    - commune de résidence,\n",
    "    - quartier (IRIS) de résidence si l'adhérent habite Roubaix,\n",
    "- son utilisation de l'équipement :\n",
    "    - utilise-t-il ou non tel ou tel service ? combien de fois dans l'année ?\n",
    "    - depuis combien de temps fréquent-il la Médiathèque ?\n",
    "    - selon quelles modalités s'est-il inscrit ?\n",
    "    \n",
    "On dispose donc de variables :\n",
    "- qualitatives\n",
    "    - nominales :\n",
    "        - activite\n",
    "        - activite_emprunteur\n",
    "        - activite_emprunteur_bus\n",
    "        - activite_emprunteur_med\n",
    "        - activite_salle_etude\n",
    "        - activite_utilisateur_postes_informatiques\n",
    "        - activite_utilisateur_wifi\n",
    "        - Roubaisien ou non\n",
    "        - Code IRIS de Roubaix\n",
    "        - Nom de l’IRIS à Roubaix\n",
    "        - Commune de résidence\n",
    "        - inscription_attribut_action\n",
    "        - inscription_attribut_zebre\n",
    "        - inscription_carte\n",
    "        - type_inscription\n",
    "        - sexe\n",
    "    - ordinales :\n",
    "        - Tranches d’âge (1)\n",
    "        - Tranches d’âge (2)\n",
    "- quantitatives\n",
    "        - nombre d’années d’adhésion\n",
    "        - nb_venues\n",
    "        - nb_venues_postes_informatiques\n",
    "        - nb_venues_prets\n",
    "        - nb_venues_prets_bus\n",
    "        - nb_venues_prets_mediatheque\n",
    "        - nb_venues_salle_etude\n",
    "        - nb_venues_wifi\n",
    "        \n",
    "## Exploration des variables et filtrage des données\n",
    "        \n",
    "On procède à la vérification des différentes valeurs (avec pour objectif de mieux les comprendre, repérer d'éventuelles aberrations et aussi de ne garder que les informations qui nous intéressent).\n",
    "\n",
    "### Exploration des vairables : typologie des personnes\n",
    "\n",
    "On ne souhaite garder que les personnes physiques, on commence donc par examiner le type de cartes et à filtrer sur les cartes attribuées uniquement à des personnes physiques :"
   ]
  },
  {
   "cell_type": "code",
   "execution_count": 2,
   "metadata": {},
   "outputs": [
    {
     "data": {
      "text/plain": [
       "<matplotlib.axes._subplots.AxesSubplot at 0x7f5acb4f3590>"
      ]
     },
     "execution_count": 2,
     "metadata": {},
     "output_type": "execute_result"
    },
    {
     "data": {
      "image/png": "[encoded data removed]",
      "text/plain": [
       "<Figure size 432x288 with 1 Axes>"
      ]
     },
     "metadata": {
      "needs_background": "light"
     },
     "output_type": "display_data"
    }
   ],
   "source": [
    "adh['inscription_carte'].fillna('N/A').value_counts(normalize=True).plot(kind='barh')"
   ]
  },
  {
   "cell_type": "code",
   "execution_count": 3,
   "metadata": {},
   "outputs": [
    {
     "data": {
      "text/plain": [
       "12964"
      ]
     },
     "execution_count": 3,
     "metadata": {},
     "output_type": "execute_result"
    }
   ],
   "source": [
    "cartes_ok = ['Médiathèque', 'Consultation sur place', 'Médiathèque Plus (5 €)', 'Médiathèque Plus (17 €)','Médiathèque Plus (Conservatoire)', 'Médiathèque Plus (35 €)']\n",
    "adh = adh[adh['inscription_carte'].isin(cartes_ok)]\n",
    "adh['date_extraction'].count()"
   ]
  },
  {
   "cell_type": "markdown",
   "metadata": {},
   "source": [
    "On réduit donc l'échantillon de 13288 à 12964.\n",
    "\n",
    "### Exploration des variables : information géographique\n",
    "\n",
    "On poursuit par les informations de type géographique, sachant qu'on ne gardera que les lignes concernant des adhérents dont la commune de résidence est Roubaix et pour lesquels on dispose d'un code IRIS.\n",
    "- Roubaisien ou non :"
   ]
  },
  {
   "cell_type": "code",
   "execution_count": 4,
   "metadata": {},
   "outputs": [
    {
     "data": {
      "text/plain": [
       "<matplotlib.axes._subplots.AxesSubplot at 0x7f5aca4bca90>"
      ]
     },
     "execution_count": 4,
     "metadata": {},
     "output_type": "execute_result"
    },
    {
     "data": {
      "image/png": "[encoded data removed]",
      "text/plain": [
       "<Figure size 432x288 with 1 Axes>"
      ]
     },
     "metadata": {
      "needs_background": "light"
     },
     "output_type": "display_data"
    }
   ],
   "source": [
    "adh['Roubaisien ou non'].fillna('N/A').value_counts(normalize=True).plot(kind='barh')"
   ]
  },
  {
   "cell_type": "markdown",
   "metadata": {},
   "source": [
    "- Code IRIS de Roubaix :"
   ]
  },
  {
   "cell_type": "code",
   "execution_count": 5,
   "metadata": {},
   "outputs": [
    {
     "data": {
      "text/plain": [
       "<matplotlib.axes._subplots.AxesSubplot at 0x7f5aca41f2d0>"
      ]
     },
     "execution_count": 5,
     "metadata": {},
     "output_type": "execute_result"
    },
    {
     "data": {
      "image/png": "[encoded data removed]",
      "text/plain": [
       "<Figure size 432x288 with 1 Axes>"
      ]
     },
     "metadata": {
      "needs_background": "light"
     },
     "output_type": "display_data"
    }
   ],
   "source": [
    "adh['Code IRIS de Roubaix'].fillna('N/A').value_counts(normalize=True).plot(kind='bar')"
   ]
  },
  {
   "cell_type": "markdown",
   "metadata": {},
   "source": [
    "- Nom de l’IRIS à Roubaix :"
   ]
  },
  {
   "cell_type": "code",
   "execution_count": 6,
   "metadata": {
    "scrolled": true
   },
   "outputs": [
    {
     "data": {
      "text/plain": [
       "<matplotlib.axes._subplots.AxesSubplot at 0x7f5aca0a1f10>"
      ]
     },
     "execution_count": 6,
     "metadata": {},
     "output_type": "execute_result"
    },
    {
     "data": {
      "image/png": "[encoded data removed]",
      "text/plain": [
       "<Figure size 432x288 with 1 Axes>"
      ]
     },
     "metadata": {
      "needs_background": "light"
     },
     "output_type": "display_data"
    }
   ],
   "source": [
    "adh['Nom de l’IRIS à Roubaix'].fillna('N/A').value_counts(normalize=True).plot(kind='bar')"
   ]
  },
  {
   "cell_type": "markdown",
   "metadata": {},
   "source": [
    "- Commune de résidence :"
   ]
  },
  {
   "cell_type": "code",
   "execution_count": 7,
   "metadata": {},
   "outputs": [
    {
     "data": {
      "text/plain": [
       "<matplotlib.axes._subplots.AxesSubplot at 0x7f5ac9f90b50>"
      ]
     },
     "execution_count": 7,
     "metadata": {},
     "output_type": "execute_result"
    },
    {
     "data": {
      "image/png": "[encoded data removed]",
      "text/plain": [
       "<Figure size 432x288 with 1 Axes>"
      ]
     },
     "metadata": {
      "needs_background": "light"
     },
     "output_type": "display_data"
    }
   ],
   "source": [
    "adh['Commune de résidence'].fillna('N/A').value_counts(normalize=True).plot(kind='barh')"
   ]
  },
  {
   "cell_type": "markdown",
   "metadata": {},
   "source": [
    "On effectue quelques tests de cohérence, puis on filtre les lignes en ne retenant que les Roubaisiens pour lesquels on dispose d'un IRIS."
   ]
  },
  {
   "cell_type": "markdown",
   "metadata": {},
   "source": [
    "On vérifie que les données des variables \"Commune de résidence\" et \"Roubaisien ou non\" sont cohérentes entre elles."
   ]
  },
  {
   "cell_type": "code",
   "execution_count": 8,
   "metadata": {},
   "outputs": [
    {
     "data": {
      "text/plain": [
       "<matplotlib.axes._subplots.AxesSubplot at 0x7f5ac9ebcd50>"
      ]
     },
     "execution_count": 8,
     "metadata": {},
     "output_type": "execute_result"
    },
    {
     "data": {
      "image/png": "[encoded data removed]",
      "text/plain": [
       "<Figure size 432x288 with 1 Axes>"
      ]
     },
     "metadata": {
      "needs_background": "light"
     },
     "output_type": "display_data"
    }
   ],
   "source": [
    "adh['Commune de résidence'][adh['Roubaisien ou non'] == 'Roubaisien'].value_counts(normalize=True).plot(kind='barh')"
   ]
  },
  {
   "cell_type": "code",
   "execution_count": 9,
   "metadata": {},
   "outputs": [
    {
     "data": {
      "text/plain": [
       "<matplotlib.axes._subplots.AxesSubplot at 0x7f5ac9ec47d0>"
      ]
     },
     "execution_count": 9,
     "metadata": {},
     "output_type": "execute_result"
    },
    {
     "data": {
      "image/png": "[encoded data removed]",
      "text/plain": [
       "<Figure size 432x288 with 1 Axes>"
      ]
     },
     "metadata": {
      "needs_background": "light"
     },
     "output_type": "display_data"
    }
   ],
   "source": [
    "adh['Commune de résidence'][adh['Roubaisien ou non'] == 'Non Roubaisien'].value_counts(normalize=True).plot(kind='barh')"
   ]
  },
  {
   "cell_type": "markdown",
   "metadata": {},
   "source": [
    "Pas d'incohérence, on peut ne garder que les habitants de Roubaix par exemple en se basant sur la variable 'Roubaisien ou non'."
   ]
  },
  {
   "cell_type": "code",
   "execution_count": 10,
   "metadata": {},
   "outputs": [
    {
     "data": {
      "text/plain": [
       "9624"
      ]
     },
     "execution_count": 10,
     "metadata": {},
     "output_type": "execute_result"
    }
   ],
   "source": [
    "adh = adh[adh['Roubaisien ou non'] == 'Roubaisien']\n",
    "adh['date_extraction'].count()"
   ]
  },
  {
   "cell_type": "markdown",
   "metadata": {},
   "source": [
    "La taille de l'échantillon passe donc de 12964 à 9624 individus.\n",
    "On vérifie ensuite que tous les Roubaisiens disposent d'un code IRIS, dans le cas contraire on ne garde que les lignes en disposant et on calcule le taux d'erreur."
   ]
  },
  {
   "cell_type": "code",
   "execution_count": 11,
   "metadata": {},
   "outputs": [
    {
     "name": "stdout",
     "output_type": "stream",
     "text": [
      "Le taux d'adhérents habitant à Roubaix et pour lesquels on ne dispose pas d'un code IRIS est : 0.03\n"
     ]
    }
   ],
   "source": [
    "nb_roubaisiens = adh['date_extraction'].count()\n",
    "adh['Code IRIS de Roubaix'] =  adh['Code IRIS de Roubaix'].fillna('N/A') \n",
    "nb_roubaisiens_iris_ko = adh['date_extraction'][adh['Code IRIS de Roubaix'] == 'N/A'].count()\n",
    "tx_iris_ko = (nb_roubaisiens_iris_ko / nb_roubaisiens).round(2)\n",
    "print(f\"Le taux d'adhérents habitant à Roubaix et pour lesquels on ne dispose pas d'un code IRIS est : {tx_iris_ko}\")"
   ]
  },
  {
   "cell_type": "markdown",
   "metadata": {},
   "source": [
    "On supprime les lignes pour lesquelles le code IRIS est absent :"
   ]
  },
  {
   "cell_type": "code",
   "execution_count": 12,
   "metadata": {},
   "outputs": [
    {
     "data": {
      "text/plain": [
       "9341"
      ]
     },
     "execution_count": 12,
     "metadata": {},
     "output_type": "execute_result"
    }
   ],
   "source": [
    "adh = adh[adh['Code IRIS de Roubaix'] != 'N/A']\n",
    "adh['date_extraction'].count()"
   ]
  },
  {
   "cell_type": "markdown",
   "metadata": {},
   "source": [
    "La taille de l'échantillon passe de 9624 à 9341 indvidus.\n",
    "\n",
    "### Exploration des variables : pratiques des inscrits\n",
    "\n",
    "Une fois que l'on n'a conservé que les lignes nous intéressant, on regarde les autres variables qualitatives :\n",
    "- activité :"
   ]
  },
  {
   "cell_type": "code",
   "execution_count": 13,
   "metadata": {},
   "outputs": [
    {
     "data": {
      "text/plain": [
       "<matplotlib.axes._subplots.AxesSubplot at 0x7f5ac9fb25d0>"
      ]
     },
     "execution_count": 13,
     "metadata": {},
     "output_type": "execute_result"
    },
    {
     "data": {
      "image/png": "[encoded data removed]",
      "text/plain": [
       "<Figure size 432x288 with 1 Axes>"
      ]
     },
     "metadata": {
      "needs_background": "light"
     },
     "output_type": "display_data"
    }
   ],
   "source": [
    "adh['activite'].fillna('N/A').value_counts(normalize=True).plot(kind='barh')"
   ]
  },
  {
   "cell_type": "markdown",
   "metadata": {},
   "source": [
    "- activite_emprunteur :"
   ]
  },
  {
   "cell_type": "code",
   "execution_count": 14,
   "metadata": {},
   "outputs": [
    {
     "data": {
      "text/plain": [
       "<matplotlib.axes._subplots.AxesSubplot at 0x7f5aca3227d0>"
      ]
     },
     "execution_count": 14,
     "metadata": {},
     "output_type": "execute_result"
    },
    {
     "data": {
      "image/png": "[encoded data removed]",
      "text/plain": [
       "<Figure size 432x288 with 1 Axes>"
      ]
     },
     "metadata": {
      "needs_background": "light"
     },
     "output_type": "display_data"
    }
   ],
   "source": [
    "adh['activite_emprunteur'].fillna('N/A').value_counts(normalize=True).plot(kind='barh')"
   ]
  },
  {
   "cell_type": "markdown",
   "metadata": {},
   "source": [
    "- activite_emprunteur_bus :"
   ]
  },
  {
   "cell_type": "code",
   "execution_count": 15,
   "metadata": {},
   "outputs": [
    {
     "data": {
      "text/plain": [
       "<matplotlib.axes._subplots.AxesSubplot at 0x7f5aca291e50>"
      ]
     },
     "execution_count": 15,
     "metadata": {},
     "output_type": "execute_result"
    },
    {
     "data": {
      "image/png": "[encoded data removed]",
      "text/plain": [
       "<Figure size 432x288 with 1 Axes>"
      ]
     },
     "metadata": {
      "needs_background": "light"
     },
     "output_type": "display_data"
    }
   ],
   "source": [
    "adh['activite_emprunteur_bus'].fillna('N/A').value_counts(normalize=True).plot(kind='barh')"
   ]
  },
  {
   "cell_type": "markdown",
   "metadata": {},
   "source": [
    "- activite_emprunteur_med :"
   ]
  },
  {
   "cell_type": "code",
   "execution_count": 16,
   "metadata": {},
   "outputs": [
    {
     "data": {
      "text/plain": [
       "<matplotlib.axes._subplots.AxesSubplot at 0x7f5aca27d5d0>"
      ]
     },
     "execution_count": 16,
     "metadata": {},
     "output_type": "execute_result"
    },
    {
     "data": {
      "image/png": "[encoded data removed]",
      "text/plain": [
       "<Figure size 432x288 with 1 Axes>"
      ]
     },
     "metadata": {
      "needs_background": "light"
     },
     "output_type": "display_data"
    }
   ],
   "source": [
    "adh['activite_emprunteur_med'].fillna('N/A').value_counts(normalize=True).plot(kind='barh')"
   ]
  },
  {
   "cell_type": "markdown",
   "metadata": {},
   "source": [
    "- activite_salle_etude :"
   ]
  },
  {
   "cell_type": "code",
   "execution_count": 17,
   "metadata": {},
   "outputs": [
    {
     "data": {
      "text/plain": [
       "<matplotlib.axes._subplots.AxesSubplot at 0x7f5ac9d9cbd0>"
      ]
     },
     "execution_count": 17,
     "metadata": {},
     "output_type": "execute_result"
    },
    {
     "data": {
      "image/png": "[encoded data removed]",
      "text/plain": [
       "<Figure size 432x288 with 1 Axes>"
      ]
     },
     "metadata": {
      "needs_background": "light"
     },
     "output_type": "display_data"
    }
   ],
   "source": [
    "adh['activite_salle_etude'].fillna('N/A').value_counts(normalize=True).plot(kind='barh')"
   ]
  },
  {
   "cell_type": "markdown",
   "metadata": {},
   "source": [
    "- activite_utilisateur_postes_informatiques :"
   ]
  },
  {
   "cell_type": "code",
   "execution_count": 18,
   "metadata": {},
   "outputs": [
    {
     "data": {
      "text/plain": [
       "<matplotlib.axes._subplots.AxesSubplot at 0x7f5ac9d6c750>"
      ]
     },
     "execution_count": 18,
     "metadata": {},
     "output_type": "execute_result"
    },
    {
     "data": {
      "image/png": "[encoded data removed]",
      "text/plain": [
       "<Figure size 432x288 with 1 Axes>"
      ]
     },
     "metadata": {
      "needs_background": "light"
     },
     "output_type": "display_data"
    }
   ],
   "source": [
    "adh['activite_utilisateur_postes_informatiques'].fillna('N/A').value_counts(normalize=True).plot(kind='barh')"
   ]
  },
  {
   "cell_type": "markdown",
   "metadata": {},
   "source": [
    "- activite_utilisateur_wifi :"
   ]
  },
  {
   "cell_type": "code",
   "execution_count": 19,
   "metadata": {},
   "outputs": [
    {
     "data": {
      "text/plain": [
       "<matplotlib.axes._subplots.AxesSubplot at 0x7f5ac9cea3d0>"
      ]
     },
     "execution_count": 19,
     "metadata": {},
     "output_type": "execute_result"
    },
    {
     "data": {
      "image/png": "[encoded data removed]",
      "text/plain": [
       "<Figure size 432x288 with 1 Axes>"
      ]
     },
     "metadata": {
      "needs_background": "light"
     },
     "output_type": "display_data"
    }
   ],
   "source": [
    "adh['activite_utilisateur_wifi'].fillna('N/A').value_counts(normalize=True).plot(kind='barh')"
   ]
  },
  {
   "cell_type": "markdown",
   "metadata": {},
   "source": [
    "- inscription_attribut_action :"
   ]
  },
  {
   "cell_type": "code",
   "execution_count": 20,
   "metadata": {},
   "outputs": [
    {
     "data": {
      "text/plain": [
       "<matplotlib.axes._subplots.AxesSubplot at 0x7f5ac9c52590>"
      ]
     },
     "execution_count": 20,
     "metadata": {},
     "output_type": "execute_result"
    },
    {
     "data": {
      "image/png": "[encoded data removed]",
      "text/plain": [
       "<Figure size 432x288 with 1 Axes>"
      ]
     },
     "metadata": {
      "needs_background": "light"
     },
     "output_type": "display_data"
    }
   ],
   "source": [
    "adh['inscription_attribut_action'].fillna('N/A').value_counts(normalize=True).plot(kind='barh')"
   ]
  },
  {
   "cell_type": "markdown",
   "metadata": {},
   "source": [
    "- inscription_attribut_zebre :"
   ]
  },
  {
   "cell_type": "code",
   "execution_count": 21,
   "metadata": {},
   "outputs": [
    {
     "data": {
      "text/plain": [
       "<matplotlib.axes._subplots.AxesSubplot at 0x7f5ac9bc5dd0>"
      ]
     },
     "execution_count": 21,
     "metadata": {},
     "output_type": "execute_result"
    },
    {
     "data": {
      "image/png": "[encoded data removed]",
      "text/plain": [
       "<Figure size 432x288 with 1 Axes>"
      ]
     },
     "metadata": {
      "needs_background": "light"
     },
     "output_type": "display_data"
    }
   ],
   "source": [
    "adh['inscription_attribut_zebre'].fillna('N/A').value_counts(normalize=True).plot(kind='barh')"
   ]
  },
  {
   "cell_type": "markdown",
   "metadata": {},
   "source": [
    "Cette variable paraît offrir peu d'informations, on ne la retiendra donc pas.\n",
    "\n",
    "- type-inscription"
   ]
  },
  {
   "cell_type": "code",
   "execution_count": 22,
   "metadata": {},
   "outputs": [
    {
     "data": {
      "text/plain": [
       "<matplotlib.axes._subplots.AxesSubplot at 0x7f5ac9b00a10>"
      ]
     },
     "execution_count": 22,
     "metadata": {},
     "output_type": "execute_result"
    },
    {
     "data": {
      "image/png": "[encoded data removed]",
      "text/plain": [
       "<Figure size 432x288 with 1 Axes>"
      ]
     },
     "metadata": {
      "needs_background": "light"
     },
     "output_type": "display_data"
    }
   ],
   "source": [
    "adh['type_inscription'].fillna('N/A').value_counts(normalize=True).plot(kind='barh')"
   ]
  },
  {
   "cell_type": "markdown",
   "metadata": {},
   "source": [
    "- sexe :"
   ]
  },
  {
   "cell_type": "code",
   "execution_count": 23,
   "metadata": {},
   "outputs": [
    {
     "data": {
      "text/plain": [
       "<matplotlib.axes._subplots.AxesSubplot at 0x7f5ac9ac9dd0>"
      ]
     },
     "execution_count": 23,
     "metadata": {},
     "output_type": "execute_result"
    },
    {
     "data": {
      "image/png": "[encoded data removed]",
      "text/plain": [
       "<Figure size 432x288 with 1 Axes>"
      ]
     },
     "metadata": {
      "needs_background": "light"
     },
     "output_type": "display_data"
    }
   ],
   "source": [
    "adh['sexe'].fillna('N/A').value_counts(normalize=True).plot(kind='barh')"
   ]
  },
  {
   "cell_type": "markdown",
   "metadata": {},
   "source": [
    "On poursuit par les variables qualitatives ordinales :\n",
    "- Tranches d'âge (1)"
   ]
  },
  {
   "cell_type": "code",
   "execution_count": 24,
   "metadata": {},
   "outputs": [
    {
     "data": {
      "text/plain": [
       "<matplotlib.axes._subplots.AxesSubplot at 0x7f5ac9a53a10>"
      ]
     },
     "execution_count": 24,
     "metadata": {},
     "output_type": "execute_result"
    },
    {
     "data": {
      "image/png": "[encoded data removed]",
      "text/plain": [
       "<Figure size 432x288 with 1 Axes>"
      ]
     },
     "metadata": {
      "needs_background": "light"
     },
     "output_type": "display_data"
    }
   ],
   "source": [
    "adh[\"Tranches d’âge (1)\"].fillna('N/A').value_counts(normalize=True).plot(kind='barh')"
   ]
  },
  {
   "cell_type": "markdown",
   "metadata": {},
   "source": [
    "- Tranches d’âge (2)"
   ]
  },
  {
   "cell_type": "code",
   "execution_count": 25,
   "metadata": {},
   "outputs": [
    {
     "data": {
      "text/plain": [
       "<matplotlib.axes._subplots.AxesSubplot at 0x7f5ac9a53290>"
      ]
     },
     "execution_count": 25,
     "metadata": {},
     "output_type": "execute_result"
    },
    {
     "data": {
      "image/png": "[encoded data removed]",
      "text/plain": [
       "<Figure size 432x288 with 1 Axes>"
      ]
     },
     "metadata": {
      "needs_background": "light"
     },
     "output_type": "display_data"
    }
   ],
   "source": [
    "adh[\"Tranches d’âge (2)\"].fillna('N/A').value_counts(normalize=True).plot(kind='barh')"
   ]
  },
  {
   "cell_type": "markdown",
   "metadata": {},
   "source": [
    "On regarde enfin les variables quantitatives :\n",
    "- nombre d’années d’adhésion"
   ]
  },
  {
   "cell_type": "code",
   "execution_count": 26,
   "metadata": {},
   "outputs": [
    {
     "data": {
      "text/plain": [
       "<matplotlib.axes._subplots.AxesSubplot at 0x7f5ac99645d0>"
      ]
     },
     "execution_count": 26,
     "metadata": {},
     "output_type": "execute_result"
    },
    {
     "data": {
      "image/png": "[encoded data removed]",
      "text/plain": [
       "<Figure size 432x288 with 1 Axes>"
      ]
     },
     "metadata": {
      "needs_background": "light"
     },
     "output_type": "display_data"
    }
   ],
   "source": [
    "adh.groupby('nombre d’années d’adhésion')['nombre d’années d’adhésion'].count().plot.bar()"
   ]
  },
  {
   "cell_type": "markdown",
   "metadata": {},
   "source": [
    "On trouve une valeur aberrante (-1), on la corrige en 0 :"
   ]
  },
  {
   "cell_type": "code",
   "execution_count": 27,
   "metadata": {},
   "outputs": [],
   "source": [
    "adh.loc[adh['nombre d’années d’adhésion'] == -1, 'nombre d’années d’adhésion'] = 0"
   ]
  },
  {
   "cell_type": "code",
   "execution_count": 28,
   "metadata": {},
   "outputs": [
    {
     "data": {
      "text/plain": [
       "count    9341.000000\n",
       "mean        3.099882\n",
       "std         3.867946\n",
       "min         0.000000\n",
       "25%         0.000000\n",
       "50%         2.000000\n",
       "75%         4.000000\n",
       "max        13.000000\n",
       "Name: nombre d’années d’adhésion, dtype: float64"
      ]
     },
     "execution_count": 28,
     "metadata": {},
     "output_type": "execute_result"
    }
   ],
   "source": [
    "adh['nombre d’années d’adhésion'].describe()"
   ]
  },
  {
   "cell_type": "markdown",
   "metadata": {},
   "source": [
    "- nb_venues"
   ]
  },
  {
   "cell_type": "code",
   "execution_count": 29,
   "metadata": {},
   "outputs": [
    {
     "data": {
      "text/plain": [
       "count    9341.000000\n",
       "mean        7.723798\n",
       "std        15.678937\n",
       "min         0.000000\n",
       "25%         1.000000\n",
       "50%         3.000000\n",
       "75%         8.000000\n",
       "max       251.000000\n",
       "Name: nb_venues, dtype: float64"
      ]
     },
     "execution_count": 29,
     "metadata": {},
     "output_type": "execute_result"
    }
   ],
   "source": [
    "adh['nb_venues'].describe()"
   ]
  },
  {
   "cell_type": "markdown",
   "metadata": {},
   "source": [
    "- nb_venues_postes_informatiques"
   ]
  },
  {
   "cell_type": "code",
   "execution_count": 30,
   "metadata": {},
   "outputs": [
    {
     "data": {
      "text/plain": [
       "count    9341.000000\n",
       "mean        3.551975\n",
       "std        13.341006\n",
       "min         0.000000\n",
       "25%         0.000000\n",
       "50%         0.000000\n",
       "75%         2.000000\n",
       "max       251.000000\n",
       "Name: nb_venues_postes_informatiques, dtype: float64"
      ]
     },
     "execution_count": 30,
     "metadata": {},
     "output_type": "execute_result"
    }
   ],
   "source": [
    "adh['nb_venues_postes_informatiques'].describe()"
   ]
  },
  {
   "cell_type": "markdown",
   "metadata": {},
   "source": [
    "- nb_venues_prets"
   ]
  },
  {
   "cell_type": "code",
   "execution_count": 31,
   "metadata": {},
   "outputs": [
    {
     "data": {
      "text/plain": [
       "count    9341.000000\n",
       "mean        4.193769\n",
       "std         7.971209\n",
       "min         0.000000\n",
       "25%         0.000000\n",
       "50%         2.000000\n",
       "75%         5.000000\n",
       "max       211.000000\n",
       "Name: nb_venues_prets, dtype: float64"
      ]
     },
     "execution_count": 31,
     "metadata": {},
     "output_type": "execute_result"
    }
   ],
   "source": [
    "adh['nb_venues_prets'].describe()"
   ]
  },
  {
   "cell_type": "markdown",
   "metadata": {},
   "source": [
    "- nb_venues_prets_bus"
   ]
  },
  {
   "cell_type": "code",
   "execution_count": 32,
   "metadata": {},
   "outputs": [
    {
     "data": {
      "text/plain": [
       "count    9341.000000\n",
       "mean        0.356921\n",
       "std         1.886956\n",
       "min         0.000000\n",
       "25%         0.000000\n",
       "50%         0.000000\n",
       "75%         0.000000\n",
       "max        52.000000\n",
       "Name: nb_venues_prets_bus, dtype: float64"
      ]
     },
     "execution_count": 32,
     "metadata": {},
     "output_type": "execute_result"
    }
   ],
   "source": [
    "adh['nb_venues_prets_bus'].describe()"
   ]
  },
  {
   "cell_type": "markdown",
   "metadata": {},
   "source": [
    "- nb_venues_prets_mediatheque"
   ]
  },
  {
   "cell_type": "code",
   "execution_count": 33,
   "metadata": {},
   "outputs": [
    {
     "data": {
      "text/plain": [
       "count    9341.000000\n",
       "mean        3.836848\n",
       "std         7.805460\n",
       "min         0.000000\n",
       "25%         0.000000\n",
       "50%         1.000000\n",
       "75%         4.000000\n",
       "max       211.000000\n",
       "Name: nb_venues_prets_mediatheque, dtype: float64"
      ]
     },
     "execution_count": 33,
     "metadata": {},
     "output_type": "execute_result"
    }
   ],
   "source": [
    "adh['nb_venues_prets_mediatheque'].describe()"
   ]
  },
  {
   "cell_type": "markdown",
   "metadata": {},
   "source": [
    "- nb_venues_salle_etude"
   ]
  },
  {
   "cell_type": "code",
   "execution_count": 34,
   "metadata": {},
   "outputs": [
    {
     "data": {
      "text/plain": [
       "count    9341.000000\n",
       "mean        0.335938\n",
       "std         4.318674\n",
       "min         0.000000\n",
       "25%         0.000000\n",
       "50%         0.000000\n",
       "75%         0.000000\n",
       "max       215.000000\n",
       "Name: nb_venues_salle_etude, dtype: float64"
      ]
     },
     "execution_count": 34,
     "metadata": {},
     "output_type": "execute_result"
    }
   ],
   "source": [
    "adh['nb_venues_salle_etude'].describe()"
   ]
  },
  {
   "cell_type": "markdown",
   "metadata": {},
   "source": [
    "- nb_venues_wifi"
   ]
  },
  {
   "cell_type": "code",
   "execution_count": 35,
   "metadata": {},
   "outputs": [
    {
     "data": {
      "text/plain": [
       "count    9341.000000\n",
       "mean        0.488813\n",
       "std         4.543981\n",
       "min         0.000000\n",
       "25%         0.000000\n",
       "50%         0.000000\n",
       "75%         0.000000\n",
       "max       218.000000\n",
       "Name: nb_venues_wifi, dtype: float64"
      ]
     },
     "execution_count": 35,
     "metadata": {},
     "output_type": "execute_result"
    }
   ],
   "source": [
    "adh['nb_venues_wifi'].describe()"
   ]
  },
  {
   "cell_type": "markdown",
   "metadata": {},
   "source": [
    "Sur l'ensemble de ces données quantitatives, on constate deux choses, sachant que l'on va ensuite regrouper toutes ces données selon les IRIS :\n",
    "- le recours à la médiane est inopérant pour la plupart des variables, car celle-ci est souvent égale à 0. On va donc devoir recourir à la moyenne,\n",
    "- on a pour chaque variable des valeurs maximales aberrantes, i.e. très éloignées des autres valeurs de l'échantillon. Si on doit utiliser des moyennes, on va devoir supprimer ces valeurs aberrantes.\n",
    "On propose de supprimer toutes les valeurs supérieures à plus de 1,5 fois l'écart interquartile + le troisième quartile. On évalue auparavant le nombre de lignes qui serait concernées :"
   ]
  },
  {
   "cell_type": "code",
   "execution_count": 36,
   "metadata": {},
   "outputs": [
    {
     "data": {
      "text/plain": [
       "3255"
      ]
     },
     "execution_count": 36,
     "metadata": {},
     "output_type": "execute_result"
    }
   ],
   "source": [
    "quanti = ['nb_venues', 'nb_venues_postes_informatiques', 'nb_venues_prets', 'nb_venues_prets_bus', 'nb_venues_prets_mediatheque', 'nb_venues_salle_etude', 'nb_venues_wifi']\n",
    "rejet = pd.DataFrame()\n",
    "for q in quanti:\n",
    "    q1 = adh[q].quantile(0.25)\n",
    "    q3 = adh[q].quantile(0.75)\n",
    "    eiq = q3 - q1\n",
    "    r = adh[adh[q] > (q3 + 1.5 * eiq)]\n",
    "    rejet = pd.concat([rejet, r])\n",
    "rejet = rejet.drop_duplicates()\n",
    "rejet['date_extraction'].count()"
   ]
  },
  {
   "cell_type": "markdown",
   "metadata": {},
   "source": [
    "On obtient beaucoup trop de lignes à rejeter (près d'un tiers de l'échantillon).\n",
    "On refait un test en se contentant d'éliminer les valeurs supérieures au centile 99 :"
   ]
  },
  {
   "cell_type": "code",
   "execution_count": 37,
   "metadata": {},
   "outputs": [
    {
     "data": {
      "text/plain": [
       "392"
      ]
     },
     "execution_count": 37,
     "metadata": {},
     "output_type": "execute_result"
    }
   ],
   "source": [
    "quanti = ['nb_venues', 'nb_venues_postes_informatiques', 'nb_venues_prets', 'nb_venues_prets_bus', 'nb_venues_prets_mediatheque', 'nb_venues_salle_etude', 'nb_venues_wifi']\n",
    "rejet = pd.DataFrame()\n",
    "for q in quanti:\n",
    "    r = adh[adh[q] > adh[q].quantile(0.99)]\n",
    "    rejet = pd.concat([rejet, r])\n",
    "rejet = rejet.drop_duplicates()\n",
    "rejet['date_extraction'].count()"
   ]
  },
  {
   "cell_type": "markdown",
   "metadata": {},
   "source": [
    "On obtient 5% de l'échantillon à supprimer, on renonce également."
   ]
  },
  {
   "cell_type": "markdown",
   "metadata": {},
   "source": [
    "### On sauvegarde le nouveau jeu de données obtenu"
   ]
  },
  {
   "cell_type": "code",
   "execution_count": 38,
   "metadata": {},
   "outputs": [],
   "source": [
    "adh.to_csv(\"data/adh.csv\", header=True, index=False)"
   ]
  },
  {
   "cell_type": "code",
   "execution_count": null,
   "metadata": {},
   "outputs": [],
   "source": []
  }
 ],
 "metadata": {
  "kernelspec": {
   "display_name": "Python 3",
   "language": "python",
   "name": "python3"
  },
  "language_info": {
   "codemirror_mode": {
    "name": "ipython",
    "version": 3
   },
   "file_extension": ".py",
   "mimetype": "text/x-python",
   "name": "python",
   "nbconvert_exporter": "python",
   "pygments_lexer": "ipython3",
   "version": "3.7.5"
  }
 },
 "nbformat": 4,
 "nbformat_minor": 2
}

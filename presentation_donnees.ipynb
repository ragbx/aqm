{
 "cells": [
  {
   "cell_type": "markdown",
   "metadata": {},
   "source": [
    "# Caractériser les adhérents de la Médiathèque de Roubaix selon leur lieu d'habitation - partie 1 : Présentation et exploration des données\n",
    "\n",
    "Ce carnet présente l'analyse des données présentées dans le cadre du cours \"Approches quantitatives et modélisation mathématique en SHS\" donné en 2019-2020 à l'Ecole nationale des chartes (master Humanités numériques et computationnelles)."
   ]
  },
  {
   "cell_type": "markdown",
   "metadata": {},
   "source": [
    "On part de [données mises en ligne](https://opendata.roubaix.fr/explore/dataset/caracteristiques_adherents_2018) sur la plateforme open data de la Ville de Roubaix."
   ]
  },
  {
   "cell_type": "code",
   "execution_count": 178,
   "metadata": {},
   "outputs": [
    {
     "data": {
      "text/html": [
       "<div>\n",
       "<style scoped>\n",
       "    .dataframe tbody tr th:only-of-type {\n",
       "        vertical-align: middle;\n",
       "    }\n",
       "\n",
       "    .dataframe tbody tr th {\n",
       "        vertical-align: top;\n",
       "    }\n",
       "\n",
       "    .dataframe thead th {\n",
       "        text-align: right;\n",
       "    }\n",
       "</style>\n",
       "<table border=\"1\" class=\"dataframe\">\n",
       "  <thead>\n",
       "    <tr style=\"text-align: right;\">\n",
       "      <th></th>\n",
       "      <th>date_extraction</th>\n",
       "      <th>activite</th>\n",
       "      <th>activite_emprunteur</th>\n",
       "      <th>activite_emprunteur_bus</th>\n",
       "      <th>activite_emprunteur_med</th>\n",
       "      <th>activite_salle_etude</th>\n",
       "      <th>activite_utilisateur_postes_informatiques</th>\n",
       "      <th>activite_utilisateur_wifi</th>\n",
       "      <th>Tranches d’âge (1)</th>\n",
       "      <th>Tranches d’âge (2)</th>\n",
       "      <th>...</th>\n",
       "      <th>type_inscription</th>\n",
       "      <th>nb_venues</th>\n",
       "      <th>nb_venues_postes_informatiques</th>\n",
       "      <th>nb_venues_prets</th>\n",
       "      <th>nb_venues_prets_bus</th>\n",
       "      <th>nb_venues_prets_mediatheque</th>\n",
       "      <th>nb_venues_salle_etude</th>\n",
       "      <th>nb_venues_wifi</th>\n",
       "      <th>sexe</th>\n",
       "      <th>geo_point_2d</th>\n",
       "    </tr>\n",
       "  </thead>\n",
       "  <tbody>\n",
       "    <tr>\n",
       "      <th>0</th>\n",
       "      <td>2018</td>\n",
       "      <td>prêt</td>\n",
       "      <td>Emprunteur</td>\n",
       "      <td>Non emprunteur Zèbre</td>\n",
       "      <td>Emprunteur Médiathèque</td>\n",
       "      <td>Non utilisateur Salle d'étude</td>\n",
       "      <td>Non utilisateur postes informatiques</td>\n",
       "      <td>Non utilisateur Wifi</td>\n",
       "      <td>25 - 64 ans</td>\n",
       "      <td>30 - 39 ans</td>\n",
       "      <td>...</td>\n",
       "      <td>gratuite</td>\n",
       "      <td>1.0</td>\n",
       "      <td>0.0</td>\n",
       "      <td>1.0</td>\n",
       "      <td>0.0</td>\n",
       "      <td>1.0</td>\n",
       "      <td>0.0</td>\n",
       "      <td>0.0</td>\n",
       "      <td>Homme</td>\n",
       "      <td>50.6873356245,3.16102905857</td>\n",
       "    </tr>\n",
       "    <tr>\n",
       "      <th>1</th>\n",
       "      <td>2018</td>\n",
       "      <td>prêt</td>\n",
       "      <td>Emprunteur</td>\n",
       "      <td>Non emprunteur Zèbre</td>\n",
       "      <td>Emprunteur Médiathèque</td>\n",
       "      <td>Non utilisateur Salle d'étude</td>\n",
       "      <td>Non utilisateur postes informatiques</td>\n",
       "      <td>Non utilisateur Wifi</td>\n",
       "      <td>0 - 14 ans</td>\n",
       "      <td>06 - 10 ans</td>\n",
       "      <td>...</td>\n",
       "      <td>gratuite</td>\n",
       "      <td>1.0</td>\n",
       "      <td>0.0</td>\n",
       "      <td>1.0</td>\n",
       "      <td>0.0</td>\n",
       "      <td>1.0</td>\n",
       "      <td>0.0</td>\n",
       "      <td>0.0</td>\n",
       "      <td>Femme</td>\n",
       "      <td>50.6873356245,3.16102905857</td>\n",
       "    </tr>\n",
       "    <tr>\n",
       "      <th>2</th>\n",
       "      <td>2018</td>\n",
       "      <td>aucune trace</td>\n",
       "      <td>Non emprunteur</td>\n",
       "      <td>Non emprunteur Zèbre</td>\n",
       "      <td>Non emprunteur Médiathèque</td>\n",
       "      <td>Non utilisateur Salle d'étude</td>\n",
       "      <td>Non utilisateur postes informatiques</td>\n",
       "      <td>Non utilisateur Wifi</td>\n",
       "      <td>0 - 14 ans</td>\n",
       "      <td>06 - 10 ans</td>\n",
       "      <td>...</td>\n",
       "      <td>gratuite</td>\n",
       "      <td>0.0</td>\n",
       "      <td>0.0</td>\n",
       "      <td>0.0</td>\n",
       "      <td>0.0</td>\n",
       "      <td>0.0</td>\n",
       "      <td>0.0</td>\n",
       "      <td>0.0</td>\n",
       "      <td>Femme</td>\n",
       "      <td>50.6873356245,3.16102905857</td>\n",
       "    </tr>\n",
       "    <tr>\n",
       "      <th>3</th>\n",
       "      <td>2018</td>\n",
       "      <td>prêt</td>\n",
       "      <td>Emprunteur</td>\n",
       "      <td>Non emprunteur Zèbre</td>\n",
       "      <td>Emprunteur Médiathèque</td>\n",
       "      <td>Non utilisateur Salle d'étude</td>\n",
       "      <td>Non utilisateur postes informatiques</td>\n",
       "      <td>Non utilisateur Wifi</td>\n",
       "      <td>65 ans et plus</td>\n",
       "      <td>65 - 79 ans</td>\n",
       "      <td>...</td>\n",
       "      <td>gratuite</td>\n",
       "      <td>13.0</td>\n",
       "      <td>0.0</td>\n",
       "      <td>13.0</td>\n",
       "      <td>0.0</td>\n",
       "      <td>13.0</td>\n",
       "      <td>0.0</td>\n",
       "      <td>0.0</td>\n",
       "      <td>Homme</td>\n",
       "      <td>50.6873356245,3.16102905857</td>\n",
       "    </tr>\n",
       "    <tr>\n",
       "      <th>4</th>\n",
       "      <td>2018</td>\n",
       "      <td>aucune trace</td>\n",
       "      <td>Non emprunteur</td>\n",
       "      <td>Non emprunteur Zèbre</td>\n",
       "      <td>Non emprunteur Médiathèque</td>\n",
       "      <td>Non utilisateur Salle d'étude</td>\n",
       "      <td>Non utilisateur postes informatiques</td>\n",
       "      <td>Non utilisateur Wifi</td>\n",
       "      <td>15 - 24 ans</td>\n",
       "      <td>15 - 17 ans</td>\n",
       "      <td>...</td>\n",
       "      <td>gratuite</td>\n",
       "      <td>0.0</td>\n",
       "      <td>0.0</td>\n",
       "      <td>0.0</td>\n",
       "      <td>0.0</td>\n",
       "      <td>0.0</td>\n",
       "      <td>0.0</td>\n",
       "      <td>0.0</td>\n",
       "      <td>Femme</td>\n",
       "      <td>50.6873356245,3.16102905857</td>\n",
       "    </tr>\n",
       "  </tbody>\n",
       "</table>\n",
       "<p>5 rows × 28 columns</p>\n",
       "</div>"
      ],
      "text/plain": [
       "   date_extraction      activite activite_emprunteur activite_emprunteur_bus  \\\n",
       "0             2018          prêt          Emprunteur    Non emprunteur Zèbre   \n",
       "1             2018          prêt          Emprunteur    Non emprunteur Zèbre   \n",
       "2             2018  aucune trace      Non emprunteur    Non emprunteur Zèbre   \n",
       "3             2018          prêt          Emprunteur    Non emprunteur Zèbre   \n",
       "4             2018  aucune trace      Non emprunteur    Non emprunteur Zèbre   \n",
       "\n",
       "      activite_emprunteur_med           activite_salle_etude  \\\n",
       "0      Emprunteur Médiathèque  Non utilisateur Salle d'étude   \n",
       "1      Emprunteur Médiathèque  Non utilisateur Salle d'étude   \n",
       "2  Non emprunteur Médiathèque  Non utilisateur Salle d'étude   \n",
       "3      Emprunteur Médiathèque  Non utilisateur Salle d'étude   \n",
       "4  Non emprunteur Médiathèque  Non utilisateur Salle d'étude   \n",
       "\n",
       "  activite_utilisateur_postes_informatiques activite_utilisateur_wifi  \\\n",
       "0      Non utilisateur postes informatiques      Non utilisateur Wifi   \n",
       "1      Non utilisateur postes informatiques      Non utilisateur Wifi   \n",
       "2      Non utilisateur postes informatiques      Non utilisateur Wifi   \n",
       "3      Non utilisateur postes informatiques      Non utilisateur Wifi   \n",
       "4      Non utilisateur postes informatiques      Non utilisateur Wifi   \n",
       "\n",
       "  Tranches d’âge (1) Tranches d’âge (2)  ... type_inscription  nb_venues  \\\n",
       "0        25 - 64 ans        30 - 39 ans  ...         gratuite        1.0   \n",
       "1         0 - 14 ans        06 - 10 ans  ...         gratuite        1.0   \n",
       "2         0 - 14 ans        06 - 10 ans  ...         gratuite        0.0   \n",
       "3     65 ans et plus        65 - 79 ans  ...         gratuite       13.0   \n",
       "4        15 - 24 ans        15 - 17 ans  ...         gratuite        0.0   \n",
       "\n",
       "  nb_venues_postes_informatiques nb_venues_prets nb_venues_prets_bus  \\\n",
       "0                            0.0             1.0                 0.0   \n",
       "1                            0.0             1.0                 0.0   \n",
       "2                            0.0             0.0                 0.0   \n",
       "3                            0.0            13.0                 0.0   \n",
       "4                            0.0             0.0                 0.0   \n",
       "\n",
       "  nb_venues_prets_mediatheque nb_venues_salle_etude  nb_venues_wifi   sexe  \\\n",
       "0                         1.0                   0.0             0.0  Homme   \n",
       "1                         1.0                   0.0             0.0  Femme   \n",
       "2                         0.0                   0.0             0.0  Femme   \n",
       "3                        13.0                   0.0             0.0  Homme   \n",
       "4                         0.0                   0.0             0.0  Femme   \n",
       "\n",
       "                  geo_point_2d  \n",
       "0  50.6873356245,3.16102905857  \n",
       "1  50.6873356245,3.16102905857  \n",
       "2  50.6873356245,3.16102905857  \n",
       "3  50.6873356245,3.16102905857  \n",
       "4  50.6873356245,3.16102905857  \n",
       "\n",
       "[5 rows x 28 columns]"
      ]
     },
     "execution_count": 178,
     "metadata": {},
     "output_type": "execute_result"
    }
   ],
   "source": [
    "import pandas as pd\n",
    "\n",
    "adh = pd.read_csv(\"caracteristiques_adherents_2018.csv\", sep=\";\")\n",
    "adh.head(5)"
   ]
  },
  {
   "cell_type": "markdown",
   "metadata": {},
   "source": [
    "Ces données ont vocation à permettre de caractériser les adhérents de la Médiathèque de Roubaix, pour une année donnée (2018 ici).\n",
    "\n",
    "Chaque ligne correspond à un individu (la taille de l'échantillon est de 13288 individus), pour lequel on dispose à la fois de variables qui permettent de connaître :\n",
    "- ses caractéristiques propres :\n",
    "    - tranche d'âge,\n",
    "    - sexe,\n",
    "    - commune de résidence,\n",
    "    - quartier (IRIS) de résidence si l'adhérent habite Roubaix,\n",
    "- son utilisation de l'équipement :\n",
    "    - utilise-t-il ou non tel ou tel service ? combien de fois dans l'année ?\n",
    "    - depuis combien de temps fréquent-il la Médiathèque ?\n",
    "    - selon quelles modalités s'est-il inscrit ?\n",
    "    \n",
    "On dispose donc de variables :\n",
    "- qualitatives\n",
    "    - nominales :\n",
    "        - activite\n",
    "        - activite_emprunteur\n",
    "        - activite_emprunteur_bus\n",
    "        - activite_emprunteur_med\n",
    "        - activite_salle_etude\n",
    "        - activite_utilisateur_postes_informatiques\n",
    "        - activite_utilisateur_wifi\n",
    "        - Roubaisien ou non\n",
    "        - Code IRIS de Roubaix\n",
    "        - Nom de l’IRIS à Roubaix\n",
    "        - Commune de résidence\n",
    "        - inscription_attribut_action\n",
    "        - inscription_attribut_zebre\n",
    "        - inscription_carte\n",
    "        - type_inscription\n",
    "        - sexe\n",
    "    - ordinales :\n",
    "        - Tranches d’âge (1)\n",
    "        - Tranches d’âge (2)\n",
    "- quantitatives\n",
    "        - nombre d’années d’adhésion\n",
    "        - nb_venues\n",
    "        - nb_venues_postes_informatiques\n",
    "        - nb_venues_prets\n",
    "        - nb_venues_prets_bus\n",
    "        - nb_venues_prets_mediatheque\n",
    "        - nb_venues_salle_etude\n",
    "        - nb_venues_wifi\n",
    "        \n",
    "On procède à la vérification des différentes valeurs (avec pour objectif de mieux les comprendre, repérer d'éventuelles aberrations et aussi de ne garder que les informations qui nous intéressent).\n",
    "\n",
    "On ne souhaite garder que les personnes physiques, on commence donc par examiner le type de cartes et à filtrer sur les cartes attribuées uniquement à des personnes physiques :"
   ]
  },
  {
   "cell_type": "code",
   "execution_count": 179,
   "metadata": {},
   "outputs": [
    {
     "data": {
      "text/plain": [
       "<matplotlib.axes._subplots.AxesSubplot at 0x7f6ca1f11310>"
      ]
     },
     "execution_count": 179,
     "metadata": {},
     "output_type": "execute_result"
    },
    {
     "data": {
      "image/png": "[encoded data removed]",
      "text/plain": [
       "<Figure size 432x288 with 1 Axes>"
      ]
     },
     "metadata": {
      "needs_background": "light"
     },
     "output_type": "display_data"
    }
   ],
   "source": [
    "adh['inscription_carte'].fillna('N/A').value_counts(normalize=True).plot(kind='barh')"
   ]
  },
  {
   "cell_type": "code",
   "execution_count": 180,
   "metadata": {},
   "outputs": [
    {
     "data": {
      "text/plain": [
       "12964"
      ]
     },
     "execution_count": 180,
     "metadata": {},
     "output_type": "execute_result"
    }
   ],
   "source": [
    "cartes_ok = ['Médiathèque', 'Consultation sur place', 'Médiathèque Plus (5 €)', 'Médiathèque Plus (17 €)','Médiathèque Plus (Conservatoire)', 'Médiathèque Plus (35 €)']\n",
    "adh = adh[adh['inscription_carte'].isin(cartes_ok)]\n",
    "adh['date_extraction'].count()"
   ]
  },
  {
   "cell_type": "markdown",
   "metadata": {},
   "source": [
    "On réduit donc l'échantillon de 13288 à 12964.\n",
    "\n",
    "On poursuit par les informations de type géographique, sachant qu'on ne gardera que les lignes concernant des adhérents dont la commune de résidence est Roubaix et pour lesquels on dispose d'un code IRIS.\n",
    "- Roubaisien ou non :"
   ]
  },
  {
   "cell_type": "code",
   "execution_count": 181,
   "metadata": {},
   "outputs": [
    {
     "data": {
      "text/plain": [
       "<matplotlib.axes._subplots.AxesSubplot at 0x7f6ca1cb3790>"
      ]
     },
     "execution_count": 181,
     "metadata": {},
     "output_type": "execute_result"
    },
    {
     "data": {
      "image/png": "[encoded data removed]",
      "text/plain": [
       "<Figure size 432x288 with 1 Axes>"
      ]
     },
     "metadata": {
      "needs_background": "light"
     },
     "output_type": "display_data"
    }
   ],
   "source": [
    "adh['Roubaisien ou non'].fillna('N/A').value_counts(normalize=True).plot(kind='barh')"
   ]
  },
  {
   "cell_type": "markdown",
   "metadata": {},
   "source": [
    "- Code IRIS de Roubaix :"
   ]
  },
  {
   "cell_type": "code",
   "execution_count": 182,
   "metadata": {},
   "outputs": [
    {
     "data": {
      "text/plain": [
       "<matplotlib.axes._subplots.AxesSubplot at 0x7f6ca1c22f90>"
      ]
     },
     "execution_count": 182,
     "metadata": {},
     "output_type": "execute_result"
    },
    {
     "data": {
      "image/png": "[encoded data removed]",
      "text/plain": [
       "<Figure size 432x288 with 1 Axes>"
      ]
     },
     "metadata": {
      "needs_background": "light"
     },
     "output_type": "display_data"
    }
   ],
   "source": [
    "adh['Code IRIS de Roubaix'].fillna('N/A').value_counts(normalize=True).plot(kind='bar')"
   ]
  },
  {
   "cell_type": "markdown",
   "metadata": {},
   "source": [
    "- Nom de l’IRIS à Roubaix :"
   ]
  },
  {
   "cell_type": "code",
   "execution_count": 183,
   "metadata": {
    "scrolled": true
   },
   "outputs": [
    {
     "data": {
      "text/plain": [
       "<matplotlib.axes._subplots.AxesSubplot at 0x7f6ca1b42390>"
      ]
     },
     "execution_count": 183,
     "metadata": {},
     "output_type": "execute_result"
    },
    {
     "data": {
      "image/png": "[encoded data removed]",
      "text/plain": [
       "<Figure size 432x288 with 1 Axes>"
      ]
     },
     "metadata": {
      "needs_background": "light"
     },
     "output_type": "display_data"
    }
   ],
   "source": [
    "adh['Nom de l’IRIS à Roubaix'].fillna('N/A').value_counts(normalize=True).plot(kind='bar')"
   ]
  },
  {
   "cell_type": "markdown",
   "metadata": {},
   "source": [
    "- Commune de résidence :"
   ]
  },
  {
   "cell_type": "code",
   "execution_count": 184,
   "metadata": {},
   "outputs": [
    {
     "data": {
      "text/plain": [
       "<matplotlib.axes._subplots.AxesSubplot at 0x7f6ca1b42090>"
      ]
     },
     "execution_count": 184,
     "metadata": {},
     "output_type": "execute_result"
    },
    {
     "data": {
      "image/png": "[encoded data removed]",
      "text/plain": [
       "<Figure size 432x288 with 1 Axes>"
      ]
     },
     "metadata": {
      "needs_background": "light"
     },
     "output_type": "display_data"
    }
   ],
   "source": [
    "adh['Commune de résidence'].fillna('N/A').value_counts(normalize=True).plot(kind='barh')"
   ]
  },
  {
   "cell_type": "markdown",
   "metadata": {},
   "source": [
    "On effectue quelques tests de cohérence, puis on filtre les lignes en ne retenant que les Roubaisiens pour lesquels on dispose d'un IRIS."
   ]
  },
  {
   "cell_type": "markdown",
   "metadata": {},
   "source": [
    "On vérifie que les données des variables \"Commune de résidence\" et \"Roubaisien ou non\" sont cohérentes entre elles."
   ]
  },
  {
   "cell_type": "code",
   "execution_count": 185,
   "metadata": {},
   "outputs": [
    {
     "data": {
      "text/plain": [
       "<matplotlib.axes._subplots.AxesSubplot at 0x7f6ca194e1d0>"
      ]
     },
     "execution_count": 185,
     "metadata": {},
     "output_type": "execute_result"
    },
    {
     "data": {
      "image/png": "[encoded data removed]",
      "text/plain": [
       "<Figure size 432x288 with 1 Axes>"
      ]
     },
     "metadata": {
      "needs_background": "light"
     },
     "output_type": "display_data"
    }
   ],
   "source": [
    "adh['Commune de résidence'][adh['Roubaisien ou non'] == 'Roubaisien'].value_counts(normalize=True).plot(kind='barh')"
   ]
  },
  {
   "cell_type": "code",
   "execution_count": 186,
   "metadata": {},
   "outputs": [
    {
     "data": {
      "text/plain": [
       "<matplotlib.axes._subplots.AxesSubplot at 0x7f6ca190e350>"
      ]
     },
     "execution_count": 186,
     "metadata": {},
     "output_type": "execute_result"
    },
    {
     "data": {
      "image/png": "[encoded data removed]",
      "text/plain": [
       "<Figure size 432x288 with 1 Axes>"
      ]
     },
     "metadata": {
      "needs_background": "light"
     },
     "output_type": "display_data"
    }
   ],
   "source": [
    "adh['Commune de résidence'][adh['Roubaisien ou non'] == 'Non Roubaisien'].value_counts(normalize=True).plot(kind='barh')"
   ]
  },
  {
   "cell_type": "markdown",
   "metadata": {},
   "source": [
    "Pas d'incohérence, on peut ne garder que les habitants de Roubaix par exemple en se basant sur la variable 'Roubaisien ou non'."
   ]
  },
  {
   "cell_type": "code",
   "execution_count": 187,
   "metadata": {},
   "outputs": [
    {
     "data": {
      "text/plain": [
       "9624"
      ]
     },
     "execution_count": 187,
     "metadata": {},
     "output_type": "execute_result"
    }
   ],
   "source": [
    "adh = adh[adh['Roubaisien ou non'] == 'Roubaisien']\n",
    "adh['date_extraction'].count()"
   ]
  },
  {
   "cell_type": "markdown",
   "metadata": {},
   "source": [
    "La taille de l'échantillon passe donc de 12964 à 9624 individus.\n",
    "On vérifie ensuite que tous les Roubaisiens disposent d'un code IRIS, dans le cas contraire on ne garde que les lignes en disposant et on calcule le taux d'erreur."
   ]
  },
  {
   "cell_type": "code",
   "execution_count": 188,
   "metadata": {},
   "outputs": [
    {
     "name": "stdout",
     "output_type": "stream",
     "text": [
      "Le taux d'adhérents habitant à Roubaix et pour lesquels on ne dispose pas d'un code IRIS est : 0.03\n"
     ]
    }
   ],
   "source": [
    "nb_roubaisiens = adh['date_extraction'].count()\n",
    "adh['Code IRIS de Roubaix'] =  adh['Code IRIS de Roubaix'].fillna('N/A') \n",
    "nb_roubaisiens_iris_ko = adh['date_extraction'][adh['Code IRIS de Roubaix'] == 'N/A'].count()\n",
    "tx_iris_ko = (nb_roubaisiens_iris_ko / nb_roubaisiens).round(2)\n",
    "print(f\"Le taux d'adhérents habitant à Roubaix et pour lesquels on ne dispose pas d'un code IRIS est : {tx_iris_ko}\")"
   ]
  },
  {
   "cell_type": "markdown",
   "metadata": {},
   "source": [
    "On supprime les lignes pour lesquelles le code IRIS est absent :"
   ]
  },
  {
   "cell_type": "code",
   "execution_count": 189,
   "metadata": {},
   "outputs": [
    {
     "data": {
      "text/plain": [
       "9341"
      ]
     },
     "execution_count": 189,
     "metadata": {},
     "output_type": "execute_result"
    }
   ],
   "source": [
    "adh = adh[adh['Code IRIS de Roubaix'] != 'N/A']\n",
    "adh['date_extraction'].count()"
   ]
  },
  {
   "cell_type": "markdown",
   "metadata": {},
   "source": [
    "La taille de l'échantillon passe de 9624 à 9341 indvidus.\n",
    "\n",
    "Une fois que l'on n'a conservé que les lignes nous intéressant, on regarde les autres variables qualitatives :\n",
    "- activité :"
   ]
  },
  {
   "cell_type": "code",
   "execution_count": 190,
   "metadata": {},
   "outputs": [
    {
     "data": {
      "text/plain": [
       "<matplotlib.axes._subplots.AxesSubplot at 0x7f6ca18aef10>"
      ]
     },
     "execution_count": 190,
     "metadata": {},
     "output_type": "execute_result"
    },
    {
     "data": {
      "image/png": "[encoded data removed]",
      "text/plain": [
       "<Figure size 432x288 with 1 Axes>"
      ]
     },
     "metadata": {
      "needs_background": "light"
     },
     "output_type": "display_data"
    }
   ],
   "source": [
    "adh['activite'].fillna('N/A').value_counts(normalize=True).plot(kind='barh')"
   ]
  },
  {
   "cell_type": "markdown",
   "metadata": {},
   "source": [
    "- activite_emprunteur :"
   ]
  },
  {
   "cell_type": "code",
   "execution_count": 191,
   "metadata": {},
   "outputs": [
    {
     "data": {
      "text/plain": [
       "<matplotlib.axes._subplots.AxesSubplot at 0x7f6ca17f6d10>"
      ]
     },
     "execution_count": 191,
     "metadata": {},
     "output_type": "execute_result"
    },
    {
     "data": {
      "image/png": "[encoded data removed]",
      "text/plain": [
       "<Figure size 432x288 with 1 Axes>"
      ]
     },
     "metadata": {
      "needs_background": "light"
     },
     "output_type": "display_data"
    }
   ],
   "source": [
    "adh['activite_emprunteur'].fillna('N/A').value_counts(normalize=True).plot(kind='barh')"
   ]
  },
  {
   "cell_type": "markdown",
   "metadata": {},
   "source": [
    "- activite_emprunteur_bus :"
   ]
  },
  {
   "cell_type": "code",
   "execution_count": 192,
   "metadata": {},
   "outputs": [
    {
     "data": {
      "text/plain": [
       "<matplotlib.axes._subplots.AxesSubplot at 0x7f6ca1774090>"
      ]
     },
     "execution_count": 192,
     "metadata": {},
     "output_type": "execute_result"
    },
    {
     "data": {
      "image/png": "[encoded data removed]",
      "text/plain": [
       "<Figure size 432x288 with 1 Axes>"
      ]
     },
     "metadata": {
      "needs_background": "light"
     },
     "output_type": "display_data"
    }
   ],
   "source": [
    "adh['activite_emprunteur_bus'].fillna('N/A').value_counts(normalize=True).plot(kind='barh')"
   ]
  },
  {
   "cell_type": "markdown",
   "metadata": {},
   "source": [
    "- activite_emprunteur_med :"
   ]
  },
  {
   "cell_type": "code",
   "execution_count": 193,
   "metadata": {},
   "outputs": [
    {
     "data": {
      "text/plain": [
       "<matplotlib.axes._subplots.AxesSubplot at 0x7f6ca16e0110>"
      ]
     },
     "execution_count": 193,
     "metadata": {},
     "output_type": "execute_result"
    },
    {
     "data": {
      "image/png": "[encoded data removed]",
      "text/plain": [
       "<Figure size 432x288 with 1 Axes>"
      ]
     },
     "metadata": {
      "needs_background": "light"
     },
     "output_type": "display_data"
    }
   ],
   "source": [
    "adh['activite_emprunteur_med'].fillna('N/A').value_counts(normalize=True).plot(kind='barh')"
   ]
  },
  {
   "cell_type": "markdown",
   "metadata": {},
   "source": [
    "- activite_salle_etude :"
   ]
  },
  {
   "cell_type": "code",
   "execution_count": 194,
   "metadata": {},
   "outputs": [
    {
     "data": {
      "text/plain": [
       "<matplotlib.axes._subplots.AxesSubplot at 0x7f6ca16460d0>"
      ]
     },
     "execution_count": 194,
     "metadata": {},
     "output_type": "execute_result"
    },
    {
     "data": {
      "image/png": "[encoded data removed]",
      "text/plain": [
       "<Figure size 432x288 with 1 Axes>"
      ]
     },
     "metadata": {
      "needs_background": "light"
     },
     "output_type": "display_data"
    }
   ],
   "source": [
    "adh['activite_salle_etude'].fillna('N/A').value_counts(normalize=True).plot(kind='barh')"
   ]
  },
  {
   "cell_type": "markdown",
   "metadata": {},
   "source": [
    "- activite_utilisateur_postes_informatiques :"
   ]
  },
  {
   "cell_type": "code",
   "execution_count": 195,
   "metadata": {},
   "outputs": [
    {
     "data": {
      "text/plain": [
       "<matplotlib.axes._subplots.AxesSubplot at 0x7f6ca162c510>"
      ]
     },
     "execution_count": 195,
     "metadata": {},
     "output_type": "execute_result"
    },
    {
     "data": {
      "image/png": "[encoded data removed]",
      "text/plain": [
       "<Figure size 432x288 with 1 Axes>"
      ]
     },
     "metadata": {
      "needs_background": "light"
     },
     "output_type": "display_data"
    }
   ],
   "source": [
    "adh['activite_utilisateur_postes_informatiques'].fillna('N/A').value_counts(normalize=True).plot(kind='barh')"
   ]
  },
  {
   "cell_type": "markdown",
   "metadata": {},
   "source": [
    "- activite_utilisateur_wifi :"
   ]
  },
  {
   "cell_type": "code",
   "execution_count": 196,
   "metadata": {},
   "outputs": [
    {
     "data": {
      "text/plain": [
       "<matplotlib.axes._subplots.AxesSubplot at 0x7f6ca15a0b10>"
      ]
     },
     "execution_count": 196,
     "metadata": {},
     "output_type": "execute_result"
    },
    {
     "data": {
      "image/png": "[encoded data removed]",
      "text/plain": [
       "<Figure size 432x288 with 1 Axes>"
      ]
     },
     "metadata": {
      "needs_background": "light"
     },
     "output_type": "display_data"
    }
   ],
   "source": [
    "adh['activite_utilisateur_wifi'].fillna('N/A').value_counts(normalize=True).plot(kind='barh')"
   ]
  },
  {
   "cell_type": "markdown",
   "metadata": {},
   "source": [
    "- inscription_attribut_action :"
   ]
  },
  {
   "cell_type": "code",
   "execution_count": 197,
   "metadata": {},
   "outputs": [
    {
     "data": {
      "text/plain": [
       "<matplotlib.axes._subplots.AxesSubplot at 0x7f6ca1571750>"
      ]
     },
     "execution_count": 197,
     "metadata": {},
     "output_type": "execute_result"
    },
    {
     "data": {
      "image/png": "[encoded data removed]",
      "text/plain": [
       "<Figure size 432x288 with 1 Axes>"
      ]
     },
     "metadata": {
      "needs_background": "light"
     },
     "output_type": "display_data"
    }
   ],
   "source": [
    "adh['inscription_attribut_action'].fillna('N/A').value_counts(normalize=True).plot(kind='barh')"
   ]
  },
  {
   "cell_type": "markdown",
   "metadata": {},
   "source": [
    "- inscription_attribut_zebre :"
   ]
  },
  {
   "cell_type": "code",
   "execution_count": 198,
   "metadata": {},
   "outputs": [
    {
     "data": {
      "text/plain": [
       "<matplotlib.axes._subplots.AxesSubplot at 0x7f6ca14d8ad0>"
      ]
     },
     "execution_count": 198,
     "metadata": {},
     "output_type": "execute_result"
    },
    {
     "data": {
      "image/png": "[encoded data removed]",
      "text/plain": [
       "<Figure size 432x288 with 1 Axes>"
      ]
     },
     "metadata": {
      "needs_background": "light"
     },
     "output_type": "display_data"
    }
   ],
   "source": [
    "adh['inscription_attribut_zebre'].fillna('N/A').value_counts(normalize=True).plot(kind='barh')"
   ]
  },
  {
   "cell_type": "markdown",
   "metadata": {},
   "source": [
    "Cette variable paraît offrir peu d'informations, on ne la retiendra donc pas.\n",
    "\n",
    "- type-inscription"
   ]
  },
  {
   "cell_type": "code",
   "execution_count": 199,
   "metadata": {},
   "outputs": [
    {
     "data": {
      "text/plain": [
       "<matplotlib.axes._subplots.AxesSubplot at 0x7f6ca141a950>"
      ]
     },
     "execution_count": 199,
     "metadata": {},
     "output_type": "execute_result"
    },
    {
     "data": {
      "image/png": "[encoded data removed]",
      "text/plain": [
       "<Figure size 432x288 with 1 Axes>"
      ]
     },
     "metadata": {
      "needs_background": "light"
     },
     "output_type": "display_data"
    }
   ],
   "source": [
    "adh['type_inscription'].fillna('N/A').value_counts(normalize=True).plot(kind='barh')"
   ]
  },
  {
   "cell_type": "markdown",
   "metadata": {},
   "source": [
    "- sexe :"
   ]
  },
  {
   "cell_type": "code",
   "execution_count": 200,
   "metadata": {},
   "outputs": [
    {
     "data": {
      "text/plain": [
       "<matplotlib.axes._subplots.AxesSubplot at 0x7f6ca13e2610>"
      ]
     },
     "execution_count": 200,
     "metadata": {},
     "output_type": "execute_result"
    },
    {
     "data": {
      "image/png": "[encoded data removed]",
      "text/plain": [
       "<Figure size 432x288 with 1 Axes>"
      ]
     },
     "metadata": {
      "needs_background": "light"
     },
     "output_type": "display_data"
    }
   ],
   "source": [
    "adh['sexe'].fillna('N/A').value_counts(normalize=True).plot(kind='barh')"
   ]
  },
  {
   "cell_type": "markdown",
   "metadata": {},
   "source": [
    "On poursuit par les variables qualitatives ordinales :\n",
    "- Tranches d'âge (1)"
   ]
  },
  {
   "cell_type": "code",
   "execution_count": 201,
   "metadata": {},
   "outputs": [
    {
     "data": {
      "text/plain": [
       "<matplotlib.axes._subplots.AxesSubplot at 0x7f6ca135cad0>"
      ]
     },
     "execution_count": 201,
     "metadata": {},
     "output_type": "execute_result"
    },
    {
     "data": {
      "image/png": "[encoded data removed]",
      "text/plain": [
       "<Figure size 432x288 with 1 Axes>"
      ]
     },
     "metadata": {
      "needs_background": "light"
     },
     "output_type": "display_data"
    }
   ],
   "source": [
    "adh[\"Tranches d’âge (1)\"].fillna('N/A').value_counts(normalize=True).plot(kind='barh')"
   ]
  },
  {
   "cell_type": "markdown",
   "metadata": {},
   "source": [
    "- Tranches d’âge (2)"
   ]
  },
  {
   "cell_type": "code",
   "execution_count": 202,
   "metadata": {},
   "outputs": [
    {
     "data": {
      "text/plain": [
       "<matplotlib.axes._subplots.AxesSubplot at 0x7f6ca1364750>"
      ]
     },
     "execution_count": 202,
     "metadata": {},
     "output_type": "execute_result"
    },
    {
     "data": {
      "image/png": "[encoded data removed]",
      "text/plain": [
       "<Figure size 432x288 with 1 Axes>"
      ]
     },
     "metadata": {
      "needs_background": "light"
     },
     "output_type": "display_data"
    }
   ],
   "source": [
    "adh[\"Tranches d’âge (2)\"].fillna('N/A').value_counts(normalize=True).plot(kind='barh')"
   ]
  },
  {
   "cell_type": "markdown",
   "metadata": {},
   "source": [
    "On regarde enfin les variables quantitatives :\n",
    "- nombre d’années d’adhésion"
   ]
  },
  {
   "cell_type": "code",
   "execution_count": 203,
   "metadata": {},
   "outputs": [
    {
     "data": {
      "text/plain": [
       "<matplotlib.axes._subplots.AxesSubplot at 0x7f6ca1272e10>"
      ]
     },
     "execution_count": 203,
     "metadata": {},
     "output_type": "execute_result"
    },
    {
     "data": {
      "image/png": "[encoded data removed]",
      "text/plain": [
       "<Figure size 432x288 with 1 Axes>"
      ]
     },
     "metadata": {
      "needs_background": "light"
     },
     "output_type": "display_data"
    }
   ],
   "source": [
    "adh.groupby('nombre d’années d’adhésion')['nombre d’années d’adhésion'].count().plot.bar()"
   ]
  },
  {
   "cell_type": "markdown",
   "metadata": {},
   "source": [
    "On trouve une valeur aberrante (-1), on la corrige en 0 :"
   ]
  },
  {
   "cell_type": "code",
   "execution_count": 204,
   "metadata": {},
   "outputs": [],
   "source": [
    "adh.loc[adh['nombre d’années d’adhésion'] == -1, 'nombre d’années d’adhésion'] = 0"
   ]
  },
  {
   "cell_type": "code",
   "execution_count": 205,
   "metadata": {},
   "outputs": [
    {
     "data": {
      "text/plain": [
       "count    9341.000000\n",
       "mean        3.099882\n",
       "std         3.867946\n",
       "min         0.000000\n",
       "25%         0.000000\n",
       "50%         2.000000\n",
       "75%         4.000000\n",
       "max        13.000000\n",
       "Name: nombre d’années d’adhésion, dtype: float64"
      ]
     },
     "execution_count": 205,
     "metadata": {},
     "output_type": "execute_result"
    }
   ],
   "source": [
    "adh['nombre d’années d’adhésion'].describe()"
   ]
  },
  {
   "cell_type": "markdown",
   "metadata": {},
   "source": [
    "- nb_venues"
   ]
  },
  {
   "cell_type": "code",
   "execution_count": 206,
   "metadata": {},
   "outputs": [
    {
     "data": {
      "text/plain": [
       "count    9341.000000\n",
       "mean        7.723798\n",
       "std        15.678937\n",
       "min         0.000000\n",
       "25%         1.000000\n",
       "50%         3.000000\n",
       "75%         8.000000\n",
       "max       251.000000\n",
       "Name: nb_venues, dtype: float64"
      ]
     },
     "execution_count": 206,
     "metadata": {},
     "output_type": "execute_result"
    }
   ],
   "source": [
    "adh['nb_venues'].describe()"
   ]
  },
  {
   "cell_type": "markdown",
   "metadata": {},
   "source": [
    "- nb_venues_postes_informatiques"
   ]
  },
  {
   "cell_type": "code",
   "execution_count": 207,
   "metadata": {},
   "outputs": [
    {
     "data": {
      "text/plain": [
       "count    9341.000000\n",
       "mean        3.551975\n",
       "std        13.341006\n",
       "min         0.000000\n",
       "25%         0.000000\n",
       "50%         0.000000\n",
       "75%         2.000000\n",
       "max       251.000000\n",
       "Name: nb_venues_postes_informatiques, dtype: float64"
      ]
     },
     "execution_count": 207,
     "metadata": {},
     "output_type": "execute_result"
    }
   ],
   "source": [
    "adh['nb_venues_postes_informatiques'].describe()"
   ]
  },
  {
   "cell_type": "markdown",
   "metadata": {},
   "source": [
    "- nb_venues_prets"
   ]
  },
  {
   "cell_type": "code",
   "execution_count": 208,
   "metadata": {},
   "outputs": [
    {
     "data": {
      "text/plain": [
       "count    9341.000000\n",
       "mean        4.193769\n",
       "std         7.971209\n",
       "min         0.000000\n",
       "25%         0.000000\n",
       "50%         2.000000\n",
       "75%         5.000000\n",
       "max       211.000000\n",
       "Name: nb_venues_prets, dtype: float64"
      ]
     },
     "execution_count": 208,
     "metadata": {},
     "output_type": "execute_result"
    }
   ],
   "source": [
    "adh['nb_venues_prets'].describe()"
   ]
  },
  {
   "cell_type": "markdown",
   "metadata": {},
   "source": [
    "- nb_venues_prets_bus"
   ]
  },
  {
   "cell_type": "code",
   "execution_count": 209,
   "metadata": {},
   "outputs": [
    {
     "data": {
      "text/plain": [
       "count    9341.000000\n",
       "mean        0.356921\n",
       "std         1.886956\n",
       "min         0.000000\n",
       "25%         0.000000\n",
       "50%         0.000000\n",
       "75%         0.000000\n",
       "max        52.000000\n",
       "Name: nb_venues_prets_bus, dtype: float64"
      ]
     },
     "execution_count": 209,
     "metadata": {},
     "output_type": "execute_result"
    }
   ],
   "source": [
    "adh['nb_venues_prets_bus'].describe()"
   ]
  },
  {
   "cell_type": "markdown",
   "metadata": {},
   "source": [
    "- nb_venues_prets_mediatheque"
   ]
  },
  {
   "cell_type": "code",
   "execution_count": 210,
   "metadata": {},
   "outputs": [
    {
     "data": {
      "text/plain": [
       "count    9341.000000\n",
       "mean        3.836848\n",
       "std         7.805460\n",
       "min         0.000000\n",
       "25%         0.000000\n",
       "50%         1.000000\n",
       "75%         4.000000\n",
       "max       211.000000\n",
       "Name: nb_venues_prets_mediatheque, dtype: float64"
      ]
     },
     "execution_count": 210,
     "metadata": {},
     "output_type": "execute_result"
    }
   ],
   "source": [
    "adh['nb_venues_prets_mediatheque'].describe()"
   ]
  },
  {
   "cell_type": "markdown",
   "metadata": {},
   "source": [
    "- nb_venues_salle_etude"
   ]
  },
  {
   "cell_type": "code",
   "execution_count": 211,
   "metadata": {},
   "outputs": [
    {
     "data": {
      "text/plain": [
       "count    9341.000000\n",
       "mean        0.335938\n",
       "std         4.318674\n",
       "min         0.000000\n",
       "25%         0.000000\n",
       "50%         0.000000\n",
       "75%         0.000000\n",
       "max       215.000000\n",
       "Name: nb_venues_salle_etude, dtype: float64"
      ]
     },
     "execution_count": 211,
     "metadata": {},
     "output_type": "execute_result"
    }
   ],
   "source": [
    "adh['nb_venues_salle_etude'].describe()"
   ]
  },
  {
   "cell_type": "markdown",
   "metadata": {},
   "source": [
    "- nb_venues_wifi"
   ]
  },
  {
   "cell_type": "code",
   "execution_count": 212,
   "metadata": {},
   "outputs": [
    {
     "data": {
      "text/plain": [
       "count    9341.000000\n",
       "mean        0.488813\n",
       "std         4.543981\n",
       "min         0.000000\n",
       "25%         0.000000\n",
       "50%         0.000000\n",
       "75%         0.000000\n",
       "max       218.000000\n",
       "Name: nb_venues_wifi, dtype: float64"
      ]
     },
     "execution_count": 212,
     "metadata": {},
     "output_type": "execute_result"
    }
   ],
   "source": [
    "adh['nb_venues_wifi'].describe()"
   ]
  },
  {
   "cell_type": "markdown",
   "metadata": {},
   "source": [
    "Sur l'ensemble de ces données quantitatives, on constate deux choses, sachant que l'on va ensuite regrouper toutes ces données selon les IRIS :\n",
    "- le recours à la médiane est inopérant pour la plupart des variables, car celle-ci est souvent égale à 0. On va donc devoir recourir à la moyenne,\n",
    "- on a pour chaque variable des valeurs maximales aberrantes, i.e. très éloignées des autres valeurs de l'échantillon. Si on doit utiliser des moyennes, on va devoir supprimer ces valeurs aberrantes.\n",
    "On propose de supprimer toutes les valeurs supérieures à plus de 1,5 fois l'écart interquartile + le troisième quartile. On évalue auparavant le nombre de lignes qui serait concernées :"
   ]
  },
  {
   "cell_type": "code",
   "execution_count": 213,
   "metadata": {},
   "outputs": [
    {
     "data": {
      "text/plain": [
       "3255"
      ]
     },
     "execution_count": 213,
     "metadata": {},
     "output_type": "execute_result"
    }
   ],
   "source": [
    "quanti = ['nb_venues', 'nb_venues_postes_informatiques', 'nb_venues_prets', 'nb_venues_prets_bus', 'nb_venues_prets_mediatheque', 'nb_venues_salle_etude', 'nb_venues_wifi']\n",
    "rejet = pd.DataFrame()\n",
    "for q in quanti:\n",
    "    q1 = adh[q].quantile(0.25)\n",
    "    q3 = adh[q].quantile(0.75)\n",
    "    eiq = q3 - q1\n",
    "    r = adh[adh[q] > (q3 + 1.5 * eiq)]\n",
    "    rejet = pd.concat([rejet, r])\n",
    "rejet = rejet.drop_duplicates()\n",
    "rejet['date_extraction'].count()"
   ]
  },
  {
   "cell_type": "markdown",
   "metadata": {},
   "source": [
    "On obtient beaucoup trop de lignes à rejeter (près d'un tiers de l'échantillon).\n",
    "On refait un test en se contentant d'éliminer les valeurs supérieures au centile 99 :"
   ]
  },
  {
   "cell_type": "code",
   "execution_count": 214,
   "metadata": {},
   "outputs": [
    {
     "data": {
      "text/plain": [
       "392"
      ]
     },
     "execution_count": 214,
     "metadata": {},
     "output_type": "execute_result"
    }
   ],
   "source": [
    "quanti = ['nb_venues', 'nb_venues_postes_informatiques', 'nb_venues_prets', 'nb_venues_prets_bus', 'nb_venues_prets_mediatheque', 'nb_venues_salle_etude', 'nb_venues_wifi']\n",
    "rejet = pd.DataFrame()\n",
    "for q in quanti:\n",
    "    r = adh[adh[q] > adh[q].quantile(0.99)]\n",
    "    rejet = pd.concat([rejet, r])\n",
    "rejet = rejet.drop_duplicates()\n",
    "rejet['date_extraction'].count()"
   ]
  },
  {
   "cell_type": "markdown",
   "metadata": {},
   "source": [
    "On obtient 4% de l'échantillon à supprimer, on renonce également."
   ]
  },
  {
   "cell_type": "code",
   "execution_count": 215,
   "metadata": {},
   "outputs": [
    {
     "data": {
      "text/plain": [
       "Index(['date_extraction', 'activite', 'activite_emprunteur',\n",
       "       'activite_emprunteur_bus', 'activite_emprunteur_med',\n",
       "       'activite_salle_etude', 'activite_utilisateur_postes_informatiques',\n",
       "       'activite_utilisateur_wifi', 'Tranches d’âge (1)', 'Tranches d’âge (2)',\n",
       "       'Roubaisien ou non', 'Code IRIS de Roubaix', 'Nom de l’IRIS à Roubaix',\n",
       "       'Commune de résidence', 'inscription_attribut_action',\n",
       "       'inscription_attribut_zebre', 'inscription_carte',\n",
       "       'nombre d’années d’adhésion', 'type_inscription', 'nb_venues',\n",
       "       'nb_venues_postes_informatiques', 'nb_venues_prets',\n",
       "       'nb_venues_prets_bus', 'nb_venues_prets_mediatheque',\n",
       "       'nb_venues_salle_etude', 'nb_venues_wifi', 'sexe', 'geo_point_2d'],\n",
       "      dtype='object')"
      ]
     },
     "execution_count": 215,
     "metadata": {},
     "output_type": "execute_result"
    }
   ],
   "source": [
    "adh.columns"
   ]
  },
  {
   "cell_type": "markdown",
   "metadata": {},
   "source": [
    "## Analyse\n",
    "On va modifier le jeu de données pour avoir en ligne les IRIS et en colonnes les différentes variables.\n",
    "Pour simplifier, on ne conserve que les variables donnant des informations sur les pratiques des adhérents et on laisse de côté (même s'il serait intéressant de les utiliser) les varaibles permettant de les qualifier (âge, sexe, ...)."
   ]
  },
  {
   "cell_type": "code",
   "execution_count": 239,
   "metadata": {},
   "outputs": [],
   "source": [
    "iris1 = pd.pivot_table(adh,\n",
    "                      values=['nb_venues', 'nb_venues_postes_informatiques', 'nb_venues_prets', 'nb_venues_prets_bus', 'nb_venues_prets_mediatheque', 'nb_venues_salle_etude', 'nb_venues_wifi'],\n",
    "                      index='Code IRIS de Roubaix',\n",
    "                      aggfunc='mean',\n",
    "                      fill_value=0)\n",
    "iris2 = adh['date_extraction'].groupby(adh['Code IRIS de Roubaix']).count()\n",
    "iris = pd.merge(iris1, iris2, on='Code IRIS de Roubaix')\n",
    "iris = iris.rename(columns={\"date_extraction\" : \"nb_inscrits\"})"
   ]
  },
  {
   "cell_type": "code",
   "execution_count": 240,
   "metadata": {},
   "outputs": [
    {
     "data": {
      "text/html": [
       "<div>\n",
       "<style scoped>\n",
       "    .dataframe tbody tr th:only-of-type {\n",
       "        vertical-align: middle;\n",
       "    }\n",
       "\n",
       "    .dataframe tbody tr th {\n",
       "        vertical-align: top;\n",
       "    }\n",
       "\n",
       "    .dataframe thead th {\n",
       "        text-align: right;\n",
       "    }\n",
       "</style>\n",
       "<table border=\"1\" class=\"dataframe\">\n",
       "  <thead>\n",
       "    <tr style=\"text-align: right;\">\n",
       "      <th></th>\n",
       "      <th>nb_venues</th>\n",
       "      <th>nb_venues_postes_informatiques</th>\n",
       "      <th>nb_venues_prets</th>\n",
       "      <th>nb_venues_prets_bus</th>\n",
       "      <th>nb_venues_prets_mediatheque</th>\n",
       "      <th>nb_venues_salle_etude</th>\n",
       "      <th>nb_venues_wifi</th>\n",
       "      <th>nb_inscrits</th>\n",
       "    </tr>\n",
       "    <tr>\n",
       "      <th>Code IRIS de Roubaix</th>\n",
       "      <th></th>\n",
       "      <th></th>\n",
       "      <th></th>\n",
       "      <th></th>\n",
       "      <th></th>\n",
       "      <th></th>\n",
       "      <th></th>\n",
       "      <th></th>\n",
       "    </tr>\n",
       "  </thead>\n",
       "  <tbody>\n",
       "    <tr>\n",
       "      <th>595120101.0</th>\n",
       "      <td>6.755208</td>\n",
       "      <td>3.739583</td>\n",
       "      <td>3.130208</td>\n",
       "      <td>0.161458</td>\n",
       "      <td>2.968750</td>\n",
       "      <td>0.057292</td>\n",
       "      <td>0.458333</td>\n",
       "      <td>192</td>\n",
       "    </tr>\n",
       "    <tr>\n",
       "      <th>595120102.0</th>\n",
       "      <td>6.339888</td>\n",
       "      <td>2.176966</td>\n",
       "      <td>4.129213</td>\n",
       "      <td>0.365169</td>\n",
       "      <td>3.764045</td>\n",
       "      <td>0.171348</td>\n",
       "      <td>0.325843</td>\n",
       "      <td>356</td>\n",
       "    </tr>\n",
       "    <tr>\n",
       "      <th>595120201.0</th>\n",
       "      <td>8.912587</td>\n",
       "      <td>6.059441</td>\n",
       "      <td>2.895105</td>\n",
       "      <td>0.048951</td>\n",
       "      <td>2.846154</td>\n",
       "      <td>0.195804</td>\n",
       "      <td>0.517483</td>\n",
       "      <td>286</td>\n",
       "    </tr>\n",
       "    <tr>\n",
       "      <th>595120202.0</th>\n",
       "      <td>7.448276</td>\n",
       "      <td>4.563218</td>\n",
       "      <td>2.465517</td>\n",
       "      <td>0.390805</td>\n",
       "      <td>2.074713</td>\n",
       "      <td>0.293103</td>\n",
       "      <td>0.683908</td>\n",
       "      <td>174</td>\n",
       "    </tr>\n",
       "    <tr>\n",
       "      <th>595120203.0</th>\n",
       "      <td>6.719745</td>\n",
       "      <td>3.961783</td>\n",
       "      <td>2.331210</td>\n",
       "      <td>0.331210</td>\n",
       "      <td>2.000000</td>\n",
       "      <td>0.515924</td>\n",
       "      <td>0.936306</td>\n",
       "      <td>157</td>\n",
       "    </tr>\n",
       "    <tr>\n",
       "      <th>595120301.0</th>\n",
       "      <td>8.170306</td>\n",
       "      <td>4.864629</td>\n",
       "      <td>3.179039</td>\n",
       "      <td>1.165939</td>\n",
       "      <td>2.013100</td>\n",
       "      <td>0.174672</td>\n",
       "      <td>0.834061</td>\n",
       "      <td>229</td>\n",
       "    </tr>\n",
       "    <tr>\n",
       "      <th>595120302.0</th>\n",
       "      <td>5.839286</td>\n",
       "      <td>1.380952</td>\n",
       "      <td>4.297619</td>\n",
       "      <td>0.482143</td>\n",
       "      <td>3.815476</td>\n",
       "      <td>0.148810</td>\n",
       "      <td>0.279762</td>\n",
       "      <td>168</td>\n",
       "    </tr>\n",
       "    <tr>\n",
       "      <th>595120303.0</th>\n",
       "      <td>8.966667</td>\n",
       "      <td>5.309524</td>\n",
       "      <td>3.747619</td>\n",
       "      <td>0.295238</td>\n",
       "      <td>3.452381</td>\n",
       "      <td>0.509524</td>\n",
       "      <td>0.747619</td>\n",
       "      <td>210</td>\n",
       "    </tr>\n",
       "    <tr>\n",
       "      <th>595120401.0</th>\n",
       "      <td>7.900000</td>\n",
       "      <td>4.857895</td>\n",
       "      <td>3.068421</td>\n",
       "      <td>0.447368</td>\n",
       "      <td>2.621053</td>\n",
       "      <td>0.947368</td>\n",
       "      <td>0.278947</td>\n",
       "      <td>190</td>\n",
       "    </tr>\n",
       "    <tr>\n",
       "      <th>595120402.0</th>\n",
       "      <td>12.063197</td>\n",
       "      <td>8.762082</td>\n",
       "      <td>3.249071</td>\n",
       "      <td>0.215613</td>\n",
       "      <td>3.033457</td>\n",
       "      <td>0.479554</td>\n",
       "      <td>1.505576</td>\n",
       "      <td>269</td>\n",
       "    </tr>\n",
       "    <tr>\n",
       "      <th>595120403.0</th>\n",
       "      <td>6.143498</td>\n",
       "      <td>2.780269</td>\n",
       "      <td>3.246637</td>\n",
       "      <td>0.022422</td>\n",
       "      <td>3.224215</td>\n",
       "      <td>0.452915</td>\n",
       "      <td>0.327354</td>\n",
       "      <td>223</td>\n",
       "    </tr>\n",
       "    <tr>\n",
       "      <th>595120501.0</th>\n",
       "      <td>8.512987</td>\n",
       "      <td>4.474026</td>\n",
       "      <td>4.487013</td>\n",
       "      <td>0.084416</td>\n",
       "      <td>4.402597</td>\n",
       "      <td>0.662338</td>\n",
       "      <td>0.253247</td>\n",
       "      <td>154</td>\n",
       "    </tr>\n",
       "    <tr>\n",
       "      <th>595120502.0</th>\n",
       "      <td>8.607143</td>\n",
       "      <td>5.200893</td>\n",
       "      <td>3.883929</td>\n",
       "      <td>0.241071</td>\n",
       "      <td>3.642857</td>\n",
       "      <td>1.151786</td>\n",
       "      <td>0.151786</td>\n",
       "      <td>224</td>\n",
       "    </tr>\n",
       "    <tr>\n",
       "      <th>595120503.0</th>\n",
       "      <td>8.258929</td>\n",
       "      <td>2.888393</td>\n",
       "      <td>5.535714</td>\n",
       "      <td>0.062500</td>\n",
       "      <td>5.473214</td>\n",
       "      <td>0.191964</td>\n",
       "      <td>0.294643</td>\n",
       "      <td>224</td>\n",
       "    </tr>\n",
       "    <tr>\n",
       "      <th>595120504.0</th>\n",
       "      <td>7.212821</td>\n",
       "      <td>3.538462</td>\n",
       "      <td>4.184615</td>\n",
       "      <td>0.010256</td>\n",
       "      <td>4.174359</td>\n",
       "      <td>0.197436</td>\n",
       "      <td>0.397436</td>\n",
       "      <td>390</td>\n",
       "    </tr>\n",
       "    <tr>\n",
       "      <th>595120601.0</th>\n",
       "      <td>9.599515</td>\n",
       "      <td>4.939320</td>\n",
       "      <td>4.716019</td>\n",
       "      <td>0.053398</td>\n",
       "      <td>4.662621</td>\n",
       "      <td>0.332524</td>\n",
       "      <td>0.519417</td>\n",
       "      <td>412</td>\n",
       "    </tr>\n",
       "    <tr>\n",
       "      <th>595120602.0</th>\n",
       "      <td>10.399038</td>\n",
       "      <td>6.264423</td>\n",
       "      <td>4.170673</td>\n",
       "      <td>0.019231</td>\n",
       "      <td>4.151442</td>\n",
       "      <td>0.163462</td>\n",
       "      <td>0.992788</td>\n",
       "      <td>416</td>\n",
       "    </tr>\n",
       "    <tr>\n",
       "      <th>595120603.0</th>\n",
       "      <td>7.371345</td>\n",
       "      <td>3.391813</td>\n",
       "      <td>4.122807</td>\n",
       "      <td>0.005848</td>\n",
       "      <td>4.116959</td>\n",
       "      <td>0.230994</td>\n",
       "      <td>0.426901</td>\n",
       "      <td>342</td>\n",
       "    </tr>\n",
       "    <tr>\n",
       "      <th>595120701.0</th>\n",
       "      <td>10.105769</td>\n",
       "      <td>1.564904</td>\n",
       "      <td>8.201923</td>\n",
       "      <td>0.091346</td>\n",
       "      <td>8.110577</td>\n",
       "      <td>0.663462</td>\n",
       "      <td>0.718750</td>\n",
       "      <td>416</td>\n",
       "    </tr>\n",
       "    <tr>\n",
       "      <th>595120702.0</th>\n",
       "      <td>7.862832</td>\n",
       "      <td>1.938053</td>\n",
       "      <td>5.946903</td>\n",
       "      <td>0.628319</td>\n",
       "      <td>5.318584</td>\n",
       "      <td>0.022124</td>\n",
       "      <td>0.066372</td>\n",
       "      <td>226</td>\n",
       "    </tr>\n",
       "    <tr>\n",
       "      <th>595120703.0</th>\n",
       "      <td>6.057143</td>\n",
       "      <td>1.214286</td>\n",
       "      <td>4.945714</td>\n",
       "      <td>0.677143</td>\n",
       "      <td>4.268571</td>\n",
       "      <td>0.200000</td>\n",
       "      <td>0.071429</td>\n",
       "      <td>350</td>\n",
       "    </tr>\n",
       "    <tr>\n",
       "      <th>595120801.0</th>\n",
       "      <td>8.967033</td>\n",
       "      <td>4.835165</td>\n",
       "      <td>3.347985</td>\n",
       "      <td>0.054945</td>\n",
       "      <td>3.293040</td>\n",
       "      <td>0.794872</td>\n",
       "      <td>1.014652</td>\n",
       "      <td>273</td>\n",
       "    </tr>\n",
       "    <tr>\n",
       "      <th>595120802.0</th>\n",
       "      <td>6.004016</td>\n",
       "      <td>2.361446</td>\n",
       "      <td>3.381526</td>\n",
       "      <td>0.337349</td>\n",
       "      <td>3.044177</td>\n",
       "      <td>0.333333</td>\n",
       "      <td>0.634538</td>\n",
       "      <td>249</td>\n",
       "    </tr>\n",
       "    <tr>\n",
       "      <th>595120803.0</th>\n",
       "      <td>6.726471</td>\n",
       "      <td>1.291176</td>\n",
       "      <td>5.388235</td>\n",
       "      <td>0.905882</td>\n",
       "      <td>4.482353</td>\n",
       "      <td>0.144118</td>\n",
       "      <td>0.208824</td>\n",
       "      <td>340</td>\n",
       "    </tr>\n",
       "    <tr>\n",
       "      <th>595120901.0</th>\n",
       "      <td>6.125523</td>\n",
       "      <td>2.895397</td>\n",
       "      <td>3.368201</td>\n",
       "      <td>0.125523</td>\n",
       "      <td>3.242678</td>\n",
       "      <td>0.422594</td>\n",
       "      <td>0.401674</td>\n",
       "      <td>239</td>\n",
       "    </tr>\n",
       "    <tr>\n",
       "      <th>595120902.0</th>\n",
       "      <td>7.423645</td>\n",
       "      <td>2.748768</td>\n",
       "      <td>4.458128</td>\n",
       "      <td>0.561576</td>\n",
       "      <td>3.896552</td>\n",
       "      <td>0.369458</td>\n",
       "      <td>0.522167</td>\n",
       "      <td>203</td>\n",
       "    </tr>\n",
       "    <tr>\n",
       "      <th>595120903.0</th>\n",
       "      <td>7.690104</td>\n",
       "      <td>3.484375</td>\n",
       "      <td>4.328125</td>\n",
       "      <td>0.388021</td>\n",
       "      <td>3.940104</td>\n",
       "      <td>0.450521</td>\n",
       "      <td>0.442708</td>\n",
       "      <td>384</td>\n",
       "    </tr>\n",
       "    <tr>\n",
       "      <th>595121001.0</th>\n",
       "      <td>5.466667</td>\n",
       "      <td>2.528205</td>\n",
       "      <td>2.974359</td>\n",
       "      <td>0.794872</td>\n",
       "      <td>2.179487</td>\n",
       "      <td>0.220513</td>\n",
       "      <td>0.312821</td>\n",
       "      <td>195</td>\n",
       "    </tr>\n",
       "    <tr>\n",
       "      <th>595121002.0</th>\n",
       "      <td>4.628866</td>\n",
       "      <td>2.005155</td>\n",
       "      <td>2.680412</td>\n",
       "      <td>0.500000</td>\n",
       "      <td>2.180412</td>\n",
       "      <td>0.175258</td>\n",
       "      <td>0.278351</td>\n",
       "      <td>194</td>\n",
       "    </tr>\n",
       "    <tr>\n",
       "      <th>595121003.0</th>\n",
       "      <td>8.213178</td>\n",
       "      <td>4.527132</td>\n",
       "      <td>3.356589</td>\n",
       "      <td>0.255814</td>\n",
       "      <td>3.100775</td>\n",
       "      <td>0.058140</td>\n",
       "      <td>1.089147</td>\n",
       "      <td>258</td>\n",
       "    </tr>\n",
       "    <tr>\n",
       "      <th>595121101.0</th>\n",
       "      <td>15.244444</td>\n",
       "      <td>12.133333</td>\n",
       "      <td>3.377778</td>\n",
       "      <td>0.044444</td>\n",
       "      <td>3.333333</td>\n",
       "      <td>1.022222</td>\n",
       "      <td>0.666667</td>\n",
       "      <td>45</td>\n",
       "    </tr>\n",
       "    <tr>\n",
       "      <th>595121102.0</th>\n",
       "      <td>7.977011</td>\n",
       "      <td>4.390805</td>\n",
       "      <td>4.109195</td>\n",
       "      <td>0.965517</td>\n",
       "      <td>3.143678</td>\n",
       "      <td>0.574713</td>\n",
       "      <td>0.609195</td>\n",
       "      <td>174</td>\n",
       "    </tr>\n",
       "    <tr>\n",
       "      <th>595121103.0</th>\n",
       "      <td>6.307087</td>\n",
       "      <td>2.755906</td>\n",
       "      <td>3.228346</td>\n",
       "      <td>0.519685</td>\n",
       "      <td>2.708661</td>\n",
       "      <td>0.259843</td>\n",
       "      <td>0.488189</td>\n",
       "      <td>127</td>\n",
       "    </tr>\n",
       "    <tr>\n",
       "      <th>595121201.0</th>\n",
       "      <td>6.920973</td>\n",
       "      <td>2.346505</td>\n",
       "      <td>5.130699</td>\n",
       "      <td>0.948328</td>\n",
       "      <td>4.182371</td>\n",
       "      <td>0.060790</td>\n",
       "      <td>0.103343</td>\n",
       "      <td>329</td>\n",
       "    </tr>\n",
       "    <tr>\n",
       "      <th>595121202.0</th>\n",
       "      <td>6.732919</td>\n",
       "      <td>2.726708</td>\n",
       "      <td>4.180124</td>\n",
       "      <td>0.552795</td>\n",
       "      <td>3.627329</td>\n",
       "      <td>0.217391</td>\n",
       "      <td>0.111801</td>\n",
       "      <td>161</td>\n",
       "    </tr>\n",
       "    <tr>\n",
       "      <th>595121203.0</th>\n",
       "      <td>6.290598</td>\n",
       "      <td>1.692308</td>\n",
       "      <td>4.602564</td>\n",
       "      <td>0.337607</td>\n",
       "      <td>4.264957</td>\n",
       "      <td>0.153846</td>\n",
       "      <td>0.273504</td>\n",
       "      <td>234</td>\n",
       "    </tr>\n",
       "    <tr>\n",
       "      <th>595121301.0</th>\n",
       "      <td>7.011111</td>\n",
       "      <td>2.788889</td>\n",
       "      <td>4.316667</td>\n",
       "      <td>1.005556</td>\n",
       "      <td>3.311111</td>\n",
       "      <td>0.616667</td>\n",
       "      <td>0.055556</td>\n",
       "      <td>180</td>\n",
       "    </tr>\n",
       "    <tr>\n",
       "      <th>595121302.0</th>\n",
       "      <td>5.614865</td>\n",
       "      <td>1.527027</td>\n",
       "      <td>4.297297</td>\n",
       "      <td>0.216216</td>\n",
       "      <td>4.081081</td>\n",
       "      <td>0.067568</td>\n",
       "      <td>0.121622</td>\n",
       "      <td>148</td>\n",
       "    </tr>\n",
       "  </tbody>\n",
       "</table>\n",
       "</div>"
      ],
      "text/plain": [
       "                      nb_venues  nb_venues_postes_informatiques  \\\n",
       "Code IRIS de Roubaix                                              \n",
       "595120101.0            6.755208                        3.739583   \n",
       "595120102.0            6.339888                        2.176966   \n",
       "595120201.0            8.912587                        6.059441   \n",
       "595120202.0            7.448276                        4.563218   \n",
       "595120203.0            6.719745                        3.961783   \n",
       "595120301.0            8.170306                        4.864629   \n",
       "595120302.0            5.839286                        1.380952   \n",
       "595120303.0            8.966667                        5.309524   \n",
       "595120401.0            7.900000                        4.857895   \n",
       "595120402.0           12.063197                        8.762082   \n",
       "595120403.0            6.143498                        2.780269   \n",
       "595120501.0            8.512987                        4.474026   \n",
       "595120502.0            8.607143                        5.200893   \n",
       "595120503.0            8.258929                        2.888393   \n",
       "595120504.0            7.212821                        3.538462   \n",
       "595120601.0            9.599515                        4.939320   \n",
       "595120602.0           10.399038                        6.264423   \n",
       "595120603.0            7.371345                        3.391813   \n",
       "595120701.0           10.105769                        1.564904   \n",
       "595120702.0            7.862832                        1.938053   \n",
       "595120703.0            6.057143                        1.214286   \n",
       "595120801.0            8.967033                        4.835165   \n",
       "595120802.0            6.004016                        2.361446   \n",
       "595120803.0            6.726471                        1.291176   \n",
       "595120901.0            6.125523                        2.895397   \n",
       "595120902.0            7.423645                        2.748768   \n",
       "595120903.0            7.690104                        3.484375   \n",
       "595121001.0            5.466667                        2.528205   \n",
       "595121002.0            4.628866                        2.005155   \n",
       "595121003.0            8.213178                        4.527132   \n",
       "595121101.0           15.244444                       12.133333   \n",
       "595121102.0            7.977011                        4.390805   \n",
       "595121103.0            6.307087                        2.755906   \n",
       "595121201.0            6.920973                        2.346505   \n",
       "595121202.0            6.732919                        2.726708   \n",
       "595121203.0            6.290598                        1.692308   \n",
       "595121301.0            7.011111                        2.788889   \n",
       "595121302.0            5.614865                        1.527027   \n",
       "\n",
       "                      nb_venues_prets  nb_venues_prets_bus  \\\n",
       "Code IRIS de Roubaix                                         \n",
       "595120101.0                  3.130208             0.161458   \n",
       "595120102.0                  4.129213             0.365169   \n",
       "595120201.0                  2.895105             0.048951   \n",
       "595120202.0                  2.465517             0.390805   \n",
       "595120203.0                  2.331210             0.331210   \n",
       "595120301.0                  3.179039             1.165939   \n",
       "595120302.0                  4.297619             0.482143   \n",
       "595120303.0                  3.747619             0.295238   \n",
       "595120401.0                  3.068421             0.447368   \n",
       "595120402.0                  3.249071             0.215613   \n",
       "595120403.0                  3.246637             0.022422   \n",
       "595120501.0                  4.487013             0.084416   \n",
       "595120502.0                  3.883929             0.241071   \n",
       "595120503.0                  5.535714             0.062500   \n",
       "595120504.0                  4.184615             0.010256   \n",
       "595120601.0                  4.716019             0.053398   \n",
       "595120602.0                  4.170673             0.019231   \n",
       "595120603.0                  4.122807             0.005848   \n",
       "595120701.0                  8.201923             0.091346   \n",
       "595120702.0                  5.946903             0.628319   \n",
       "595120703.0                  4.945714             0.677143   \n",
       "595120801.0                  3.347985             0.054945   \n",
       "595120802.0                  3.381526             0.337349   \n",
       "595120803.0                  5.388235             0.905882   \n",
       "595120901.0                  3.368201             0.125523   \n",
       "595120902.0                  4.458128             0.561576   \n",
       "595120903.0                  4.328125             0.388021   \n",
       "595121001.0                  2.974359             0.794872   \n",
       "595121002.0                  2.680412             0.500000   \n",
       "595121003.0                  3.356589             0.255814   \n",
       "595121101.0                  3.377778             0.044444   \n",
       "595121102.0                  4.109195             0.965517   \n",
       "595121103.0                  3.228346             0.519685   \n",
       "595121201.0                  5.130699             0.948328   \n",
       "595121202.0                  4.180124             0.552795   \n",
       "595121203.0                  4.602564             0.337607   \n",
       "595121301.0                  4.316667             1.005556   \n",
       "595121302.0                  4.297297             0.216216   \n",
       "\n",
       "                      nb_venues_prets_mediatheque  nb_venues_salle_etude  \\\n",
       "Code IRIS de Roubaix                                                       \n",
       "595120101.0                              2.968750               0.057292   \n",
       "595120102.0                              3.764045               0.171348   \n",
       "595120201.0                              2.846154               0.195804   \n",
       "595120202.0                              2.074713               0.293103   \n",
       "595120203.0                              2.000000               0.515924   \n",
       "595120301.0                              2.013100               0.174672   \n",
       "595120302.0                              3.815476               0.148810   \n",
       "595120303.0                              3.452381               0.509524   \n",
       "595120401.0                              2.621053               0.947368   \n",
       "595120402.0                              3.033457               0.479554   \n",
       "595120403.0                              3.224215               0.452915   \n",
       "595120501.0                              4.402597               0.662338   \n",
       "595120502.0                              3.642857               1.151786   \n",
       "595120503.0                              5.473214               0.191964   \n",
       "595120504.0                              4.174359               0.197436   \n",
       "595120601.0                              4.662621               0.332524   \n",
       "595120602.0                              4.151442               0.163462   \n",
       "595120603.0                              4.116959               0.230994   \n",
       "595120701.0                              8.110577               0.663462   \n",
       "595120702.0                              5.318584               0.022124   \n",
       "595120703.0                              4.268571               0.200000   \n",
       "595120801.0                              3.293040               0.794872   \n",
       "595120802.0                              3.044177               0.333333   \n",
       "595120803.0                              4.482353               0.144118   \n",
       "595120901.0                              3.242678               0.422594   \n",
       "595120902.0                              3.896552               0.369458   \n",
       "595120903.0                              3.940104               0.450521   \n",
       "595121001.0                              2.179487               0.220513   \n",
       "595121002.0                              2.180412               0.175258   \n",
       "595121003.0                              3.100775               0.058140   \n",
       "595121101.0                              3.333333               1.022222   \n",
       "595121102.0                              3.143678               0.574713   \n",
       "595121103.0                              2.708661               0.259843   \n",
       "595121201.0                              4.182371               0.060790   \n",
       "595121202.0                              3.627329               0.217391   \n",
       "595121203.0                              4.264957               0.153846   \n",
       "595121301.0                              3.311111               0.616667   \n",
       "595121302.0                              4.081081               0.067568   \n",
       "\n",
       "                      nb_venues_wifi  nb_inscrits  \n",
       "Code IRIS de Roubaix                               \n",
       "595120101.0                 0.458333          192  \n",
       "595120102.0                 0.325843          356  \n",
       "595120201.0                 0.517483          286  \n",
       "595120202.0                 0.683908          174  \n",
       "595120203.0                 0.936306          157  \n",
       "595120301.0                 0.834061          229  \n",
       "595120302.0                 0.279762          168  \n",
       "595120303.0                 0.747619          210  \n",
       "595120401.0                 0.278947          190  \n",
       "595120402.0                 1.505576          269  \n",
       "595120403.0                 0.327354          223  \n",
       "595120501.0                 0.253247          154  \n",
       "595120502.0                 0.151786          224  \n",
       "595120503.0                 0.294643          224  \n",
       "595120504.0                 0.397436          390  \n",
       "595120601.0                 0.519417          412  \n",
       "595120602.0                 0.992788          416  \n",
       "595120603.0                 0.426901          342  \n",
       "595120701.0                 0.718750          416  \n",
       "595120702.0                 0.066372          226  \n",
       "595120703.0                 0.071429          350  \n",
       "595120801.0                 1.014652          273  \n",
       "595120802.0                 0.634538          249  \n",
       "595120803.0                 0.208824          340  \n",
       "595120901.0                 0.401674          239  \n",
       "595120902.0                 0.522167          203  \n",
       "595120903.0                 0.442708          384  \n",
       "595121001.0                 0.312821          195  \n",
       "595121002.0                 0.278351          194  \n",
       "595121003.0                 1.089147          258  \n",
       "595121101.0                 0.666667           45  \n",
       "595121102.0                 0.609195          174  \n",
       "595121103.0                 0.488189          127  \n",
       "595121201.0                 0.103343          329  \n",
       "595121202.0                 0.111801          161  \n",
       "595121203.0                 0.273504          234  \n",
       "595121301.0                 0.055556          180  \n",
       "595121302.0                 0.121622          148  "
      ]
     },
     "execution_count": 240,
     "metadata": {},
     "output_type": "execute_result"
    }
   ],
   "source": [
    "iris"
   ]
  },
  {
   "cell_type": "markdown",
   "metadata": {},
   "source": [
    "On enrichit les données IRIS avec le nb d'habitants, le libellé, le revenu médian (sous dormes absolues et d'indice) :"
   ]
  },
  {
   "cell_type": "code",
   "execution_count": 241,
   "metadata": {},
   "outputs": [
    {
     "data": {
      "text/html": [
       "<div>\n",
       "<style scoped>\n",
       "    .dataframe tbody tr th:only-of-type {\n",
       "        vertical-align: middle;\n",
       "    }\n",
       "\n",
       "    .dataframe tbody tr th {\n",
       "        vertical-align: top;\n",
       "    }\n",
       "\n",
       "    .dataframe thead th {\n",
       "        text-align: right;\n",
       "    }\n",
       "</style>\n",
       "<table border=\"1\" class=\"dataframe\">\n",
       "  <thead>\n",
       "    <tr style=\"text-align: right;\">\n",
       "      <th></th>\n",
       "      <th>Code IRIS de Roubaix</th>\n",
       "      <th>nb_venues</th>\n",
       "      <th>nb_venues_postes_informatiques</th>\n",
       "      <th>nb_venues_prets</th>\n",
       "      <th>nb_venues_prets_bus</th>\n",
       "      <th>nb_venues_prets_mediatheque</th>\n",
       "      <th>nb_venues_salle_etude</th>\n",
       "      <th>nb_venues_wifi</th>\n",
       "      <th>nb_inscrits</th>\n",
       "      <th>revenu_fiscal_median_par_uc</th>\n",
       "      <th>pos</th>\n",
       "      <th>indice</th>\n",
       "      <th>Nom de l’IRIS à Roubaix</th>\n",
       "      <th>nb_hab</th>\n",
       "      <th>indice_nb_hab</th>\n",
       "    </tr>\n",
       "  </thead>\n",
       "  <tbody>\n",
       "    <tr>\n",
       "      <th>0</th>\n",
       "      <td>595120101.0</td>\n",
       "      <td>6.755208</td>\n",
       "      <td>3.739583</td>\n",
       "      <td>3.130208</td>\n",
       "      <td>0.161458</td>\n",
       "      <td>2.968750</td>\n",
       "      <td>0.057292</td>\n",
       "      <td>0.458333</td>\n",
       "      <td>192</td>\n",
       "      <td>8472</td>\n",
       "      <td>G3</td>\n",
       "      <td>0,888050314465409</td>\n",
       "      <td>MACKELLERIE</td>\n",
       "      <td>2267</td>\n",
       "      <td>0,911241101367719</td>\n",
       "    </tr>\n",
       "    <tr>\n",
       "      <th>1</th>\n",
       "      <td>595120102.0</td>\n",
       "      <td>6.339888</td>\n",
       "      <td>2.176966</td>\n",
       "      <td>4.129213</td>\n",
       "      <td>0.365169</td>\n",
       "      <td>3.764045</td>\n",
       "      <td>0.171348</td>\n",
       "      <td>0.325843</td>\n",
       "      <td>356</td>\n",
       "      <td>10913</td>\n",
       "      <td>G5</td>\n",
       "      <td>1,14392033542977</td>\n",
       "      <td>FRESNOY</td>\n",
       "      <td>3656</td>\n",
       "      <td>1,46956218200281</td>\n",
       "    </tr>\n",
       "    <tr>\n",
       "      <th>2</th>\n",
       "      <td>595120201.0</td>\n",
       "      <td>8.912587</td>\n",
       "      <td>6.059441</td>\n",
       "      <td>2.895105</td>\n",
       "      <td>0.048951</td>\n",
       "      <td>2.846154</td>\n",
       "      <td>0.195804</td>\n",
       "      <td>0.517483</td>\n",
       "      <td>286</td>\n",
       "      <td>7222</td>\n",
       "      <td>G2</td>\n",
       "      <td>0,757023060796646</td>\n",
       "      <td>FOSSE AUX CHENES</td>\n",
       "      <td>2832</td>\n",
       "      <td>1,13834794842231</td>\n",
       "    </tr>\n",
       "    <tr>\n",
       "      <th>3</th>\n",
       "      <td>595120202.0</td>\n",
       "      <td>7.448276</td>\n",
       "      <td>4.563218</td>\n",
       "      <td>2.465517</td>\n",
       "      <td>0.390805</td>\n",
       "      <td>2.074713</td>\n",
       "      <td>0.293103</td>\n",
       "      <td>0.683908</td>\n",
       "      <td>174</td>\n",
       "      <td>4105</td>\n",
       "      <td>G1</td>\n",
       "      <td>0,430293501048218</td>\n",
       "      <td>ALMA SUD</td>\n",
       "      <td>2284</td>\n",
       "      <td>0,918074404730423</td>\n",
       "    </tr>\n",
       "    <tr>\n",
       "      <th>4</th>\n",
       "      <td>595120203.0</td>\n",
       "      <td>6.719745</td>\n",
       "      <td>3.961783</td>\n",
       "      <td>2.331210</td>\n",
       "      <td>0.331210</td>\n",
       "      <td>2.000000</td>\n",
       "      <td>0.515924</td>\n",
       "      <td>0.936306</td>\n",
       "      <td>157</td>\n",
       "      <td>6063</td>\n",
       "      <td>G1</td>\n",
       "      <td>0,635534591194969</td>\n",
       "      <td>ALMA NORD</td>\n",
       "      <td>1806</td>\n",
       "      <td>0,725937992532024</td>\n",
       "    </tr>\n",
       "    <tr>\n",
       "      <th>5</th>\n",
       "      <td>595120301.0</td>\n",
       "      <td>8.170306</td>\n",
       "      <td>4.864629</td>\n",
       "      <td>3.179039</td>\n",
       "      <td>1.165939</td>\n",
       "      <td>2.013100</td>\n",
       "      <td>0.174672</td>\n",
       "      <td>0.834061</td>\n",
       "      <td>229</td>\n",
       "      <td>9073</td>\n",
       "      <td>G4</td>\n",
       "      <td>0,95104821802935</td>\n",
       "      <td>ENTREPONT-CARTIGNY</td>\n",
       "      <td>2782</td>\n",
       "      <td>1,11824999735553</td>\n",
       "    </tr>\n",
       "    <tr>\n",
       "      <th>6</th>\n",
       "      <td>595120302.0</td>\n",
       "      <td>5.839286</td>\n",
       "      <td>1.380952</td>\n",
       "      <td>4.297619</td>\n",
       "      <td>0.482143</td>\n",
       "      <td>3.815476</td>\n",
       "      <td>0.148810</td>\n",
       "      <td>0.279762</td>\n",
       "      <td>168</td>\n",
       "      <td>10237</td>\n",
       "      <td>G5</td>\n",
       "      <td>1,0730607966457</td>\n",
       "      <td>HUTIN-ORAN</td>\n",
       "      <td>2528</td>\n",
       "      <td>1,0161524059363</td>\n",
       "    </tr>\n",
       "    <tr>\n",
       "      <th>7</th>\n",
       "      <td>595120303.0</td>\n",
       "      <td>8.966667</td>\n",
       "      <td>5.309524</td>\n",
       "      <td>3.747619</td>\n",
       "      <td>0.295238</td>\n",
       "      <td>3.452381</td>\n",
       "      <td>0.509524</td>\n",
       "      <td>0.747619</td>\n",
       "      <td>210</td>\n",
       "      <td>7078</td>\n",
       "      <td>G2</td>\n",
       "      <td>0,741928721174004</td>\n",
       "      <td>CUL DE FOUR</td>\n",
       "      <td>3189</td>\n",
       "      <td>1,28184731903911</td>\n",
       "    </tr>\n",
       "    <tr>\n",
       "      <th>8</th>\n",
       "      <td>595120401.0</td>\n",
       "      <td>7.900000</td>\n",
       "      <td>4.857895</td>\n",
       "      <td>3.068421</td>\n",
       "      <td>0.447368</td>\n",
       "      <td>2.621053</td>\n",
       "      <td>0.947368</td>\n",
       "      <td>0.278947</td>\n",
       "      <td>190</td>\n",
       "      <td>6545</td>\n",
       "      <td>G1</td>\n",
       "      <td>0,686058700209644</td>\n",
       "      <td>HOMMELET NORD</td>\n",
       "      <td>2182</td>\n",
       "      <td>0,877074584554196</td>\n",
       "    </tr>\n",
       "    <tr>\n",
       "      <th>9</th>\n",
       "      <td>595120402.0</td>\n",
       "      <td>12.063197</td>\n",
       "      <td>8.762082</td>\n",
       "      <td>3.249071</td>\n",
       "      <td>0.215613</td>\n",
       "      <td>3.033457</td>\n",
       "      <td>0.479554</td>\n",
       "      <td>1.505576</td>\n",
       "      <td>269</td>\n",
       "      <td>8003</td>\n",
       "      <td>G3</td>\n",
       "      <td>0,838888888888889</td>\n",
       "      <td>HOMMELET CENTRE</td>\n",
       "      <td>2944</td>\n",
       "      <td>1,18336735881189</td>\n",
       "    </tr>\n",
       "    <tr>\n",
       "      <th>10</th>\n",
       "      <td>595120403.0</td>\n",
       "      <td>6.143498</td>\n",
       "      <td>2.780269</td>\n",
       "      <td>3.246637</td>\n",
       "      <td>0.022422</td>\n",
       "      <td>3.224215</td>\n",
       "      <td>0.452915</td>\n",
       "      <td>0.327354</td>\n",
       "      <td>223</td>\n",
       "      <td>8859</td>\n",
       "      <td>G3</td>\n",
       "      <td>0,928616352201258</td>\n",
       "      <td>HOMMELET SUD</td>\n",
       "      <td>2208</td>\n",
       "      <td>0,88752551910892</td>\n",
       "    </tr>\n",
       "    <tr>\n",
       "      <th>11</th>\n",
       "      <td>595120501.0</td>\n",
       "      <td>8.512987</td>\n",
       "      <td>4.474026</td>\n",
       "      <td>4.487013</td>\n",
       "      <td>0.084416</td>\n",
       "      <td>4.402597</td>\n",
       "      <td>0.662338</td>\n",
       "      <td>0.253247</td>\n",
       "      <td>154</td>\n",
       "      <td>6568</td>\n",
       "      <td>G2</td>\n",
       "      <td>0,688469601677149</td>\n",
       "      <td>EPEULE NORD</td>\n",
       "      <td>1934</td>\n",
       "      <td>0,777388747262976</td>\n",
       "    </tr>\n",
       "    <tr>\n",
       "      <th>12</th>\n",
       "      <td>595120502.0</td>\n",
       "      <td>8.607143</td>\n",
       "      <td>5.200893</td>\n",
       "      <td>3.883929</td>\n",
       "      <td>0.241071</td>\n",
       "      <td>3.642857</td>\n",
       "      <td>1.151786</td>\n",
       "      <td>0.151786</td>\n",
       "      <td>224</td>\n",
       "      <td>7338</td>\n",
       "      <td>G2</td>\n",
       "      <td>0,769182389937107</td>\n",
       "      <td>EPEULE CENTRE</td>\n",
       "      <td>2695</td>\n",
       "      <td>1,08327956249934</td>\n",
       "    </tr>\n",
       "    <tr>\n",
       "      <th>13</th>\n",
       "      <td>595120503.0</td>\n",
       "      <td>8.258929</td>\n",
       "      <td>2.888393</td>\n",
       "      <td>5.535714</td>\n",
       "      <td>0.062500</td>\n",
       "      <td>5.473214</td>\n",
       "      <td>0.191964</td>\n",
       "      <td>0.294643</td>\n",
       "      <td>224</td>\n",
       "      <td>11818</td>\n",
       "      <td>G5</td>\n",
       "      <td>1,23878406708595</td>\n",
       "      <td>EPEULE SUD</td>\n",
       "      <td>2011</td>\n",
       "      <td>0,808339591905815</td>\n",
       "    </tr>\n",
       "    <tr>\n",
       "      <th>14</th>\n",
       "      <td>595120504.0</td>\n",
       "      <td>7.212821</td>\n",
       "      <td>3.538462</td>\n",
       "      <td>4.184615</td>\n",
       "      <td>0.010256</td>\n",
       "      <td>4.174359</td>\n",
       "      <td>0.197436</td>\n",
       "      <td>0.397436</td>\n",
       "      <td>390</td>\n",
       "      <td>9041</td>\n",
       "      <td>G4</td>\n",
       "      <td>0,94769392033543</td>\n",
       "      <td>TRICHON</td>\n",
       "      <td>2684</td>\n",
       "      <td>1,07885801326465</td>\n",
       "    </tr>\n",
       "    <tr>\n",
       "      <th>15</th>\n",
       "      <td>595120601.0</td>\n",
       "      <td>9.599515</td>\n",
       "      <td>4.939320</td>\n",
       "      <td>4.716019</td>\n",
       "      <td>0.053398</td>\n",
       "      <td>4.662621</td>\n",
       "      <td>0.332524</td>\n",
       "      <td>0.519417</td>\n",
       "      <td>412</td>\n",
       "      <td>10640</td>\n",
       "      <td>G5</td>\n",
       "      <td>1,11530398322851</td>\n",
       "      <td>ESPERANCE CENTRE</td>\n",
       "      <td>2028</td>\n",
       "      <td>0,815172895268519</td>\n",
       "    </tr>\n",
       "    <tr>\n",
       "      <th>16</th>\n",
       "      <td>595120602.0</td>\n",
       "      <td>10.399038</td>\n",
       "      <td>6.264423</td>\n",
       "      <td>4.170673</td>\n",
       "      <td>0.019231</td>\n",
       "      <td>4.151442</td>\n",
       "      <td>0.163462</td>\n",
       "      <td>0.992788</td>\n",
       "      <td>416</td>\n",
       "      <td>9469</td>\n",
       "      <td>G4</td>\n",
       "      <td>0,992557651991614</td>\n",
       "      <td>NATIONS UNIES</td>\n",
       "      <td>2645</td>\n",
       "      <td>1,06318161143256</td>\n",
       "    </tr>\n",
       "    <tr>\n",
       "      <th>17</th>\n",
       "      <td>595120603.0</td>\n",
       "      <td>7.371345</td>\n",
       "      <td>3.391813</td>\n",
       "      <td>4.122807</td>\n",
       "      <td>0.005848</td>\n",
       "      <td>4.116959</td>\n",
       "      <td>0.230994</td>\n",
       "      <td>0.426901</td>\n",
       "      <td>342</td>\n",
       "      <td>9584</td>\n",
       "      <td>G4</td>\n",
       "      <td>1,00461215932914</td>\n",
       "      <td>ANSEELE</td>\n",
       "      <td>3324</td>\n",
       "      <td>1,33611178691941</td>\n",
       "    </tr>\n",
       "    <tr>\n",
       "      <th>18</th>\n",
       "      <td>595120701.0</td>\n",
       "      <td>10.105769</td>\n",
       "      <td>1.564904</td>\n",
       "      <td>8.201923</td>\n",
       "      <td>0.091346</td>\n",
       "      <td>8.110577</td>\n",
       "      <td>0.663462</td>\n",
       "      <td>0.718750</td>\n",
       "      <td>416</td>\n",
       "      <td>24340</td>\n",
       "      <td>G6</td>\n",
       "      <td>2,55136268343815</td>\n",
       "      <td>BARBIEUX-VAUBAN</td>\n",
       "      <td>3722</td>\n",
       "      <td>1,49609147741096</td>\n",
       "    </tr>\n",
       "    <tr>\n",
       "      <th>19</th>\n",
       "      <td>595120702.0</td>\n",
       "      <td>7.862832</td>\n",
       "      <td>1.938053</td>\n",
       "      <td>5.946903</td>\n",
       "      <td>0.628319</td>\n",
       "      <td>5.318584</td>\n",
       "      <td>0.022124</td>\n",
       "      <td>0.066372</td>\n",
       "      <td>226</td>\n",
       "      <td>27475</td>\n",
       "      <td>G6</td>\n",
       "      <td>2,87997903563941</td>\n",
       "      <td>BARBIEUX SUD</td>\n",
       "      <td>2088</td>\n",
       "      <td>0,839290436548653</td>\n",
       "    </tr>\n",
       "    <tr>\n",
       "      <th>20</th>\n",
       "      <td>595120703.0</td>\n",
       "      <td>6.057143</td>\n",
       "      <td>1.214286</td>\n",
       "      <td>4.945714</td>\n",
       "      <td>0.677143</td>\n",
       "      <td>4.268571</td>\n",
       "      <td>0.200000</td>\n",
       "      <td>0.071429</td>\n",
       "      <td>350</td>\n",
       "      <td>16318</td>\n",
       "      <td>G6</td>\n",
       "      <td>1,7104821802935</td>\n",
       "      <td>EDOUART VAILLANT</td>\n",
       "      <td>2979</td>\n",
       "      <td>1,19743592455864</td>\n",
       "    </tr>\n",
       "    <tr>\n",
       "      <th>21</th>\n",
       "      <td>595120801.0</td>\n",
       "      <td>8.967033</td>\n",
       "      <td>4.835165</td>\n",
       "      <td>3.347985</td>\n",
       "      <td>0.054945</td>\n",
       "      <td>3.293040</td>\n",
       "      <td>0.794872</td>\n",
       "      <td>1.014652</td>\n",
       "      <td>273</td>\n",
       "      <td>8381</td>\n",
       "      <td>G3</td>\n",
       "      <td>0,878511530398323</td>\n",
       "      <td>MOULIN NORD</td>\n",
       "      <td>2549</td>\n",
       "      <td>1,02459354538435</td>\n",
       "    </tr>\n",
       "    <tr>\n",
       "      <th>22</th>\n",
       "      <td>595120802.0</td>\n",
       "      <td>6.004016</td>\n",
       "      <td>2.361446</td>\n",
       "      <td>3.381526</td>\n",
       "      <td>0.337349</td>\n",
       "      <td>3.044177</td>\n",
       "      <td>0.333333</td>\n",
       "      <td>0.634538</td>\n",
       "      <td>249</td>\n",
       "      <td>9423</td>\n",
       "      <td>G4</td>\n",
       "      <td>0,987735849056604</td>\n",
       "      <td>MOULIN SUD</td>\n",
       "      <td>2385</td>\n",
       "      <td>0,958672265885315</td>\n",
       "    </tr>\n",
       "    <tr>\n",
       "      <th>23</th>\n",
       "      <td>595120803.0</td>\n",
       "      <td>6.726471</td>\n",
       "      <td>1.291176</td>\n",
       "      <td>5.388235</td>\n",
       "      <td>0.905882</td>\n",
       "      <td>4.482353</td>\n",
       "      <td>0.144118</td>\n",
       "      <td>0.208824</td>\n",
       "      <td>340</td>\n",
       "      <td>14598</td>\n",
       "      <td>G6</td>\n",
       "      <td>1,53018867924528</td>\n",
       "      <td>POTENNERIE</td>\n",
       "      <td>2957</td>\n",
       "      <td>1,18859282608926</td>\n",
       "    </tr>\n",
       "    <tr>\n",
       "      <th>24</th>\n",
       "      <td>595120901.0</td>\n",
       "      <td>6.125523</td>\n",
       "      <td>2.895397</td>\n",
       "      <td>3.368201</td>\n",
       "      <td>0.125523</td>\n",
       "      <td>3.242678</td>\n",
       "      <td>0.422594</td>\n",
       "      <td>0.401674</td>\n",
       "      <td>239</td>\n",
       "      <td>7920</td>\n",
       "      <td>G3</td>\n",
       "      <td>0,830188679245283</td>\n",
       "      <td>SAINTE-ELISABETH CENTRE</td>\n",
       "      <td>2477</td>\n",
       "      <td>0,995652495848186</td>\n",
       "    </tr>\n",
       "    <tr>\n",
       "      <th>25</th>\n",
       "      <td>595120902.0</td>\n",
       "      <td>7.423645</td>\n",
       "      <td>2.748768</td>\n",
       "      <td>4.458128</td>\n",
       "      <td>0.561576</td>\n",
       "      <td>3.896552</td>\n",
       "      <td>0.369458</td>\n",
       "      <td>0.522167</td>\n",
       "      <td>203</td>\n",
       "      <td>7941</td>\n",
       "      <td>G3</td>\n",
       "      <td>0,832389937106918</td>\n",
       "      <td>SAINTE-ELISABETH SUD</td>\n",
       "      <td>1903</td>\n",
       "      <td>0,764928017601574</td>\n",
       "    </tr>\n",
       "    <tr>\n",
       "      <th>26</th>\n",
       "      <td>595120903.0</td>\n",
       "      <td>7.690104</td>\n",
       "      <td>3.484375</td>\n",
       "      <td>4.328125</td>\n",
       "      <td>0.388021</td>\n",
       "      <td>3.940104</td>\n",
       "      <td>0.450521</td>\n",
       "      <td>0.442708</td>\n",
       "      <td>384</td>\n",
       "      <td>8677</td>\n",
       "      <td>G3</td>\n",
       "      <td>0,909538784067086</td>\n",
       "      <td>SAINTE-ELISABETH NORD</td>\n",
       "      <td>2818</td>\n",
       "      <td>1,13272052212361</td>\n",
       "    </tr>\n",
       "    <tr>\n",
       "      <th>27</th>\n",
       "      <td>595121001.0</td>\n",
       "      <td>5.466667</td>\n",
       "      <td>2.528205</td>\n",
       "      <td>2.974359</td>\n",
       "      <td>0.794872</td>\n",
       "      <td>2.179487</td>\n",
       "      <td>0.220513</td>\n",
       "      <td>0.312821</td>\n",
       "      <td>195</td>\n",
       "      <td>7277</td>\n",
       "      <td>G2</td>\n",
       "      <td>0,762788259958071</td>\n",
       "      <td>PILE EST</td>\n",
       "      <td>2207</td>\n",
       "      <td>0,887123560087585</td>\n",
       "    </tr>\n",
       "    <tr>\n",
       "      <th>28</th>\n",
       "      <td>595121002.0</td>\n",
       "      <td>4.628866</td>\n",
       "      <td>2.005155</td>\n",
       "      <td>2.680412</td>\n",
       "      <td>0.500000</td>\n",
       "      <td>2.180412</td>\n",
       "      <td>0.175258</td>\n",
       "      <td>0.278351</td>\n",
       "      <td>194</td>\n",
       "      <td>6419</td>\n",
       "      <td>G1</td>\n",
       "      <td>0,672851153039832</td>\n",
       "      <td>PILE CENTRE</td>\n",
       "      <td>2616</td>\n",
       "      <td>1,05152479981383</td>\n",
       "    </tr>\n",
       "    <tr>\n",
       "      <th>29</th>\n",
       "      <td>595121003.0</td>\n",
       "      <td>8.213178</td>\n",
       "      <td>4.527132</td>\n",
       "      <td>3.356589</td>\n",
       "      <td>0.255814</td>\n",
       "      <td>3.100775</td>\n",
       "      <td>0.058140</td>\n",
       "      <td>1.089147</td>\n",
       "      <td>258</td>\n",
       "      <td>7885</td>\n",
       "      <td>G2</td>\n",
       "      <td>0,826519916142558</td>\n",
       "      <td>PILE NORD</td>\n",
       "      <td>2142</td>\n",
       "      <td>0,860996223700773</td>\n",
       "    </tr>\n",
       "    <tr>\n",
       "      <th>30</th>\n",
       "      <td>595121101.0</td>\n",
       "      <td>15.244444</td>\n",
       "      <td>12.133333</td>\n",
       "      <td>3.377778</td>\n",
       "      <td>0.044444</td>\n",
       "      <td>3.333333</td>\n",
       "      <td>1.022222</td>\n",
       "      <td>0.666667</td>\n",
       "      <td>45</td>\n",
       "      <td>4648</td>\n",
       "      <td>G1</td>\n",
       "      <td>0,487211740041929</td>\n",
       "      <td>TROIS PONTS NORD</td>\n",
       "      <td>1040</td>\n",
       "      <td>0,418037382188984</td>\n",
       "    </tr>\n",
       "    <tr>\n",
       "      <th>31</th>\n",
       "      <td>595121102.0</td>\n",
       "      <td>7.977011</td>\n",
       "      <td>4.390805</td>\n",
       "      <td>4.109195</td>\n",
       "      <td>0.965517</td>\n",
       "      <td>3.143678</td>\n",
       "      <td>0.574713</td>\n",
       "      <td>0.609195</td>\n",
       "      <td>174</td>\n",
       "      <td>6362</td>\n",
       "      <td>G1</td>\n",
       "      <td>0,666876310272537</td>\n",
       "      <td>TROIS PONTS SUD</td>\n",
       "      <td>2264</td>\n",
       "      <td>0,910035224303712</td>\n",
       "    </tr>\n",
       "    <tr>\n",
       "      <th>32</th>\n",
       "      <td>595121103.0</td>\n",
       "      <td>6.307087</td>\n",
       "      <td>2.755906</td>\n",
       "      <td>3.228346</td>\n",
       "      <td>0.519685</td>\n",
       "      <td>2.708661</td>\n",
       "      <td>0.259843</td>\n",
       "      <td>0.488189</td>\n",
       "      <td>127</td>\n",
       "      <td>9988</td>\n",
       "      <td>G5</td>\n",
       "      <td>1,04696016771488</td>\n",
       "      <td>SARTEL</td>\n",
       "      <td>1796</td>\n",
       "      <td>0,721918402318669</td>\n",
       "    </tr>\n",
       "    <tr>\n",
       "      <th>33</th>\n",
       "      <td>595121201.0</td>\n",
       "      <td>6.920973</td>\n",
       "      <td>2.346505</td>\n",
       "      <td>5.130699</td>\n",
       "      <td>0.948328</td>\n",
       "      <td>4.182371</td>\n",
       "      <td>0.060790</td>\n",
       "      <td>0.103343</td>\n",
       "      <td>329</td>\n",
       "      <td>15408</td>\n",
       "      <td>G6</td>\n",
       "      <td>1,61509433962264</td>\n",
       "      <td>LINNE CHEMIN NEUF</td>\n",
       "      <td>3041</td>\n",
       "      <td>1,22235738388144</td>\n",
       "    </tr>\n",
       "    <tr>\n",
       "      <th>34</th>\n",
       "      <td>595121202.0</td>\n",
       "      <td>6.732919</td>\n",
       "      <td>2.726708</td>\n",
       "      <td>4.180124</td>\n",
       "      <td>0.552795</td>\n",
       "      <td>3.627329</td>\n",
       "      <td>0.217391</td>\n",
       "      <td>0.111801</td>\n",
       "      <td>161</td>\n",
       "      <td>15934</td>\n",
       "      <td>G6</td>\n",
       "      <td>1,67023060796646</td>\n",
       "      <td>JUSTICE</td>\n",
       "      <td>2109</td>\n",
       "      <td>0,8477315759967</td>\n",
       "    </tr>\n",
       "    <tr>\n",
       "      <th>35</th>\n",
       "      <td>595121203.0</td>\n",
       "      <td>6.290598</td>\n",
       "      <td>1.692308</td>\n",
       "      <td>4.602564</td>\n",
       "      <td>0.337607</td>\n",
       "      <td>4.264957</td>\n",
       "      <td>0.153846</td>\n",
       "      <td>0.273504</td>\n",
       "      <td>234</td>\n",
       "      <td>12881</td>\n",
       "      <td>G5</td>\n",
       "      <td>1,35020964360587</td>\n",
       "      <td>FRATERNITE</td>\n",
       "      <td>2679</td>\n",
       "      <td>1,07684821815797</td>\n",
       "    </tr>\n",
       "    <tr>\n",
       "      <th>36</th>\n",
       "      <td>595121301.0</td>\n",
       "      <td>7.011111</td>\n",
       "      <td>2.788889</td>\n",
       "      <td>4.316667</td>\n",
       "      <td>1.005556</td>\n",
       "      <td>3.311111</td>\n",
       "      <td>0.616667</td>\n",
       "      <td>0.055556</td>\n",
       "      <td>180</td>\n",
       "      <td>9747</td>\n",
       "      <td>G4</td>\n",
       "      <td>1,02169811320755</td>\n",
       "      <td>NOUVEAU ROUBAIX</td>\n",
       "      <td>2302</td>\n",
       "      <td>0,925309667114463</td>\n",
       "    </tr>\n",
       "    <tr>\n",
       "      <th>37</th>\n",
       "      <td>595121302.0</td>\n",
       "      <td>5.614865</td>\n",
       "      <td>1.527027</td>\n",
       "      <td>4.297297</td>\n",
       "      <td>0.216216</td>\n",
       "      <td>4.081081</td>\n",
       "      <td>0.067568</td>\n",
       "      <td>0.121622</td>\n",
       "      <td>148</td>\n",
       "      <td>9127</td>\n",
       "      <td>G4</td>\n",
       "      <td>0,956708595387841</td>\n",
       "      <td>HAUTS CHAMPS</td>\n",
       "      <td>2464</td>\n",
       "      <td>0,990427028570824</td>\n",
       "    </tr>\n",
       "  </tbody>\n",
       "</table>\n",
       "</div>"
      ],
      "text/plain": [
       "    Code IRIS de Roubaix  nb_venues  nb_venues_postes_informatiques  \\\n",
       "0            595120101.0   6.755208                        3.739583   \n",
       "1            595120102.0   6.339888                        2.176966   \n",
       "2            595120201.0   8.912587                        6.059441   \n",
       "3            595120202.0   7.448276                        4.563218   \n",
       "4            595120203.0   6.719745                        3.961783   \n",
       "5            595120301.0   8.170306                        4.864629   \n",
       "6            595120302.0   5.839286                        1.380952   \n",
       "7            595120303.0   8.966667                        5.309524   \n",
       "8            595120401.0   7.900000                        4.857895   \n",
       "9            595120402.0  12.063197                        8.762082   \n",
       "10           595120403.0   6.143498                        2.780269   \n",
       "11           595120501.0   8.512987                        4.474026   \n",
       "12           595120502.0   8.607143                        5.200893   \n",
       "13           595120503.0   8.258929                        2.888393   \n",
       "14           595120504.0   7.212821                        3.538462   \n",
       "15           595120601.0   9.599515                        4.939320   \n",
       "16           595120602.0  10.399038                        6.264423   \n",
       "17           595120603.0   7.371345                        3.391813   \n",
       "18           595120701.0  10.105769                        1.564904   \n",
       "19           595120702.0   7.862832                        1.938053   \n",
       "20           595120703.0   6.057143                        1.214286   \n",
       "21           595120801.0   8.967033                        4.835165   \n",
       "22           595120802.0   6.004016                        2.361446   \n",
       "23           595120803.0   6.726471                        1.291176   \n",
       "24           595120901.0   6.125523                        2.895397   \n",
       "25           595120902.0   7.423645                        2.748768   \n",
       "26           595120903.0   7.690104                        3.484375   \n",
       "27           595121001.0   5.466667                        2.528205   \n",
       "28           595121002.0   4.628866                        2.005155   \n",
       "29           595121003.0   8.213178                        4.527132   \n",
       "30           595121101.0  15.244444                       12.133333   \n",
       "31           595121102.0   7.977011                        4.390805   \n",
       "32           595121103.0   6.307087                        2.755906   \n",
       "33           595121201.0   6.920973                        2.346505   \n",
       "34           595121202.0   6.732919                        2.726708   \n",
       "35           595121203.0   6.290598                        1.692308   \n",
       "36           595121301.0   7.011111                        2.788889   \n",
       "37           595121302.0   5.614865                        1.527027   \n",
       "\n",
       "    nb_venues_prets  nb_venues_prets_bus  nb_venues_prets_mediatheque  \\\n",
       "0          3.130208             0.161458                     2.968750   \n",
       "1          4.129213             0.365169                     3.764045   \n",
       "2          2.895105             0.048951                     2.846154   \n",
       "3          2.465517             0.390805                     2.074713   \n",
       "4          2.331210             0.331210                     2.000000   \n",
       "5          3.179039             1.165939                     2.013100   \n",
       "6          4.297619             0.482143                     3.815476   \n",
       "7          3.747619             0.295238                     3.452381   \n",
       "8          3.068421             0.447368                     2.621053   \n",
       "9          3.249071             0.215613                     3.033457   \n",
       "10         3.246637             0.022422                     3.224215   \n",
       "11         4.487013             0.084416                     4.402597   \n",
       "12         3.883929             0.241071                     3.642857   \n",
       "13         5.535714             0.062500                     5.473214   \n",
       "14         4.184615             0.010256                     4.174359   \n",
       "15         4.716019             0.053398                     4.662621   \n",
       "16         4.170673             0.019231                     4.151442   \n",
       "17         4.122807             0.005848                     4.116959   \n",
       "18         8.201923             0.091346                     8.110577   \n",
       "19         5.946903             0.628319                     5.318584   \n",
       "20         4.945714             0.677143                     4.268571   \n",
       "21         3.347985             0.054945                     3.293040   \n",
       "22         3.381526             0.337349                     3.044177   \n",
       "23         5.388235             0.905882                     4.482353   \n",
       "24         3.368201             0.125523                     3.242678   \n",
       "25         4.458128             0.561576                     3.896552   \n",
       "26         4.328125             0.388021                     3.940104   \n",
       "27         2.974359             0.794872                     2.179487   \n",
       "28         2.680412             0.500000                     2.180412   \n",
       "29         3.356589             0.255814                     3.100775   \n",
       "30         3.377778             0.044444                     3.333333   \n",
       "31         4.109195             0.965517                     3.143678   \n",
       "32         3.228346             0.519685                     2.708661   \n",
       "33         5.130699             0.948328                     4.182371   \n",
       "34         4.180124             0.552795                     3.627329   \n",
       "35         4.602564             0.337607                     4.264957   \n",
       "36         4.316667             1.005556                     3.311111   \n",
       "37         4.297297             0.216216                     4.081081   \n",
       "\n",
       "    nb_venues_salle_etude  nb_venues_wifi  nb_inscrits  \\\n",
       "0                0.057292        0.458333          192   \n",
       "1                0.171348        0.325843          356   \n",
       "2                0.195804        0.517483          286   \n",
       "3                0.293103        0.683908          174   \n",
       "4                0.515924        0.936306          157   \n",
       "5                0.174672        0.834061          229   \n",
       "6                0.148810        0.279762          168   \n",
       "7                0.509524        0.747619          210   \n",
       "8                0.947368        0.278947          190   \n",
       "9                0.479554        1.505576          269   \n",
       "10               0.452915        0.327354          223   \n",
       "11               0.662338        0.253247          154   \n",
       "12               1.151786        0.151786          224   \n",
       "13               0.191964        0.294643          224   \n",
       "14               0.197436        0.397436          390   \n",
       "15               0.332524        0.519417          412   \n",
       "16               0.163462        0.992788          416   \n",
       "17               0.230994        0.426901          342   \n",
       "18               0.663462        0.718750          416   \n",
       "19               0.022124        0.066372          226   \n",
       "20               0.200000        0.071429          350   \n",
       "21               0.794872        1.014652          273   \n",
       "22               0.333333        0.634538          249   \n",
       "23               0.144118        0.208824          340   \n",
       "24               0.422594        0.401674          239   \n",
       "25               0.369458        0.522167          203   \n",
       "26               0.450521        0.442708          384   \n",
       "27               0.220513        0.312821          195   \n",
       "28               0.175258        0.278351          194   \n",
       "29               0.058140        1.089147          258   \n",
       "30               1.022222        0.666667           45   \n",
       "31               0.574713        0.609195          174   \n",
       "32               0.259843        0.488189          127   \n",
       "33               0.060790        0.103343          329   \n",
       "34               0.217391        0.111801          161   \n",
       "35               0.153846        0.273504          234   \n",
       "36               0.616667        0.055556          180   \n",
       "37               0.067568        0.121622          148   \n",
       "\n",
       "    revenu_fiscal_median_par_uc pos             indice  \\\n",
       "0                          8472  G3  0,888050314465409   \n",
       "1                         10913  G5   1,14392033542977   \n",
       "2                          7222  G2  0,757023060796646   \n",
       "3                          4105  G1  0,430293501048218   \n",
       "4                          6063  G1  0,635534591194969   \n",
       "5                          9073  G4   0,95104821802935   \n",
       "6                         10237  G5    1,0730607966457   \n",
       "7                          7078  G2  0,741928721174004   \n",
       "8                          6545  G1  0,686058700209644   \n",
       "9                          8003  G3  0,838888888888889   \n",
       "10                         8859  G3  0,928616352201258   \n",
       "11                         6568  G2  0,688469601677149   \n",
       "12                         7338  G2  0,769182389937107   \n",
       "13                        11818  G5   1,23878406708595   \n",
       "14                         9041  G4   0,94769392033543   \n",
       "15                        10640  G5   1,11530398322851   \n",
       "16                         9469  G4  0,992557651991614   \n",
       "17                         9584  G4   1,00461215932914   \n",
       "18                        24340  G6   2,55136268343815   \n",
       "19                        27475  G6   2,87997903563941   \n",
       "20                        16318  G6    1,7104821802935   \n",
       "21                         8381  G3  0,878511530398323   \n",
       "22                         9423  G4  0,987735849056604   \n",
       "23                        14598  G6   1,53018867924528   \n",
       "24                         7920  G3  0,830188679245283   \n",
       "25                         7941  G3  0,832389937106918   \n",
       "26                         8677  G3  0,909538784067086   \n",
       "27                         7277  G2  0,762788259958071   \n",
       "28                         6419  G1  0,672851153039832   \n",
       "29                         7885  G2  0,826519916142558   \n",
       "30                         4648  G1  0,487211740041929   \n",
       "31                         6362  G1  0,666876310272537   \n",
       "32                         9988  G5   1,04696016771488   \n",
       "33                        15408  G6   1,61509433962264   \n",
       "34                        15934  G6   1,67023060796646   \n",
       "35                        12881  G5   1,35020964360587   \n",
       "36                         9747  G4   1,02169811320755   \n",
       "37                         9127  G4  0,956708595387841   \n",
       "\n",
       "    Nom de l’IRIS à Roubaix  nb_hab      indice_nb_hab  \n",
       "0               MACKELLERIE    2267  0,911241101367719  \n",
       "1                   FRESNOY    3656   1,46956218200281  \n",
       "2          FOSSE AUX CHENES    2832   1,13834794842231  \n",
       "3                  ALMA SUD    2284  0,918074404730423  \n",
       "4                 ALMA NORD    1806  0,725937992532024  \n",
       "5        ENTREPONT-CARTIGNY    2782   1,11824999735553  \n",
       "6                HUTIN-ORAN    2528    1,0161524059363  \n",
       "7               CUL DE FOUR    3189   1,28184731903911  \n",
       "8             HOMMELET NORD    2182  0,877074584554196  \n",
       "9           HOMMELET CENTRE    2944   1,18336735881189  \n",
       "10             HOMMELET SUD    2208   0,88752551910892  \n",
       "11              EPEULE NORD    1934  0,777388747262976  \n",
       "12            EPEULE CENTRE    2695   1,08327956249934  \n",
       "13               EPEULE SUD    2011  0,808339591905815  \n",
       "14                  TRICHON    2684   1,07885801326465  \n",
       "15         ESPERANCE CENTRE    2028  0,815172895268519  \n",
       "16            NATIONS UNIES    2645   1,06318161143256  \n",
       "17                  ANSEELE    3324   1,33611178691941  \n",
       "18          BARBIEUX-VAUBAN    3722   1,49609147741096  \n",
       "19             BARBIEUX SUD    2088  0,839290436548653  \n",
       "20         EDOUART VAILLANT    2979   1,19743592455864  \n",
       "21              MOULIN NORD    2549   1,02459354538435  \n",
       "22               MOULIN SUD    2385  0,958672265885315  \n",
       "23               POTENNERIE    2957   1,18859282608926  \n",
       "24  SAINTE-ELISABETH CENTRE    2477  0,995652495848186  \n",
       "25     SAINTE-ELISABETH SUD    1903  0,764928017601574  \n",
       "26    SAINTE-ELISABETH NORD    2818   1,13272052212361  \n",
       "27                 PILE EST    2207  0,887123560087585  \n",
       "28              PILE CENTRE    2616   1,05152479981383  \n",
       "29                PILE NORD    2142  0,860996223700773  \n",
       "30         TROIS PONTS NORD    1040  0,418037382188984  \n",
       "31          TROIS PONTS SUD    2264  0,910035224303712  \n",
       "32                   SARTEL    1796  0,721918402318669  \n",
       "33        LINNE CHEMIN NEUF    3041   1,22235738388144  \n",
       "34                  JUSTICE    2109    0,8477315759967  \n",
       "35               FRATERNITE    2679   1,07684821815797  \n",
       "36          NOUVEAU ROUBAIX    2302  0,925309667114463  \n",
       "37             HAUTS CHAMPS    2464  0,990427028570824  "
      ]
     },
     "execution_count": 241,
     "metadata": {},
     "output_type": "execute_result"
    }
   ],
   "source": [
    "iris_lib = pd.read_csv(\"data/iris_data.csv\")\n",
    "iris = pd.merge(iris, iris_lib, on='Code IRIS de Roubaix')\n",
    "iris"
   ]
  },
  {
   "cell_type": "markdown",
   "metadata": {},
   "source": [
    "On peut maintenant regarder comment se répartissent les inscrits à la Médiathèque au sein des différents IRIS.\n",
    "On commence par calculer la part d'inscrits par rapport au nombre d'habitants de chaque IRIS (on augmentera le nombre d'isncrits au sein de chaque IRIS du coefficient de couverture pour les adresses calculer au départ)."
   ]
  },
  {
   "cell_type": "code",
   "execution_count": 246,
   "metadata": {},
   "outputs": [],
   "source": [
    "iris['iris_part_inscrits'] = iris['nb_inscrits'] * (1 + tx_iris_ko) / iris['nb_hab']"
   ]
  },
  {
   "cell_type": "code",
   "execution_count": 254,
   "metadata": {},
   "outputs": [],
   "source": [
    "iris[['Code IRIS de Roubaix', 'Nom de l’IRIS à Roubaix', 'iris_part_inscrits']].to_csv(\"data/iris_carte_inscrits.csv\", header=True, index=False)"
   ]
  },
  {
   "cell_type": "code",
   "execution_count": 249,
   "metadata": {},
   "outputs": [
    {
     "data": {
      "image/png": "[encoded data removed]",
      "text/plain": [
       "<IPython.core.display.Image object>"
      ]
     },
     "execution_count": 249,
     "metadata": {},
     "output_type": "execute_result"
    }
   ],
   "source": [
    "from IPython.display import Image\n",
    "Image(filename='data/iris_carte_inscrits.png') "
   ]
  },
  {
   "cell_type": "markdown",
   "metadata": {},
   "source": [
    "On va maintenant se demander comment regrouper les quartiers en fonction des pratiques de leurs habitants. On va donc recourir à une ACP."
   ]
  },
  {
   "cell_type": "code",
   "execution_count": 251,
   "metadata": {},
   "outputs": [],
   "source": [
    "iris.to_csv(\"data/iris.csv\", header=True, index=False)"
   ]
  },
  {
   "cell_type": "code",
   "execution_count": 253,
   "metadata": {},
   "outputs": [],
   "source": [
    "iris[['Code IRIS de Roubaix', 'Nom de l’IRIS à Roubaix', 'indice']].to_csv(\"data/iris_carte_revenus.csv\", header=True, index=False)"
   ]
  },
  {
   "cell_type": "code",
   "execution_count": null,
   "metadata": {},
   "outputs": [],
   "source": []
  }
 ],
 "metadata": {
  "kernelspec": {
   "display_name": "Python 3",
   "language": "python",
   "name": "python3"
  },
  "language_info": {
   "codemirror_mode": {
    "name": "ipython",
    "version": 3
   },
   "file_extension": ".py",
   "mimetype": "text/x-python",
   "name": "python",
   "nbconvert_exporter": "python",
   "pygments_lexer": "ipython3",
   "version": "3.7.5"
  }
 },
 "nbformat": 4,
 "nbformat_minor": 2
}
